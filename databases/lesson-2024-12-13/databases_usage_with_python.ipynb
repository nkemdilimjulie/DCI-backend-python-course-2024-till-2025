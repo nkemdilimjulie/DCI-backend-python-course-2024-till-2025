{
 "cells": [
  {
   "cell_type": "markdown",
   "metadata": {},
   "source": [
    "\n",
    "# Exercises\n",
    "## Advanced Data Types\n",
    "```sql\n",
    "INSERT INTO site_user(uuid, name, role, birthdate, siblings, availability, site_settings, created_on)\n",
    "\n",
    "VALUES ('e41e1291-33b8-4316-8a86-28a618d5c338', 'Miriam Valira','Admin', '1995-08-29','{\"Dani\",\"Louis\"}', ARRAY[ARRAY['12:00:00'::TIME, '15:00:00'::TIME]] , '{\"Background\":\"red\", \"notifications\":\"off\"}','2015-09-23 08:56:00'::TIMESTAMP );\n",
    "\n",
    "\n",
    "UPDATE site_user\n",
    "SET active_for = EXTRACT(DAY FROM AGE(NOW(), created_on));\n",
    "\n",
    "SELECT name, (\n",
    "    CASE \n",
    "        WHEN active_for = 0\n",
    "            THEN 'same day'\n",
    "        WHEN active_for = 1\n",
    "            THEN active_for || ' day'\n",
    "        ELSE active_for || ' days'\n",
    "    END \n",
    ") AS active_for\n",
    "FROM site_user;\n",
    "\n",
    "-- Task 4\n",
    "-- 4\n",
    "SELECT name\n",
    "FROM site_user\n",
    "WHERE array_length(availability, 2) > 1;"
   ]
  },
  {
   "cell_type": "markdown",
   "metadata": {},
   "source": []
  }
 ],
 "metadata": {
  "language_info": {
   "name": "python"
  }
 },
 "nbformat": 4,
 "nbformat_minor": 2
}
