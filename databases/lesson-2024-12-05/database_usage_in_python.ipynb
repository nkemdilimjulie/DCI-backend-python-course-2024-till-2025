{
 "cells": [
  {
   "cell_type": "markdown",
   "metadata": {},
   "source": [
    "### Database usage in Python\n",
    "### psycopg.connect\n",
    "This method of psycopg is used to connect to our database. It has the following parameters\n",
    "- `[host]`: By default it is `localhost`. But if you want to connect to a database running in a remote server, then you have to provide the server's url.\n",
    "- `dbname`: The name of the database you want to connect to\n",
    "- `user`: The name of the user/role you are connecting with\n",
    "- `password`: the user's password\n",
    "- `[port]`: The default port for postgresql is: `5432`\n",
    "\n",
    "#### We can connect in two ways\n",
    "\n",
    "**db params as a single string**\n",
    "\n",
    "```python\n",
    "import psycopg as pg\n",
    "conn = pg.connect(\"host=<host> dbname=<db-name> user=<user-name> password=<password> port=<port>\")\n",
    "```\n",
    "\n",
    "**db params as keyword-arguments\n",
    "\n",
    "```python\n",
    "import psycopg as pg\n",
    "conn = pg.connect(\n",
    "    host = <host>,\n",
    "    dbname = <db-name>,\n",
    "    user = <user-name>,\n",
    "    password = <password>,\n",
    "    port = <port>\n",
    ")\n",
    "```\n",
    "\n",
    "### My Employee App\n",
    "\n",
    "#### Project Structure\n",
    "```\n",
    ".bravoInk\n",
    "├── __init__.py\n",
    "└── src\n",
    "    ├── db.py\n",
    "    ├── __init__.py\n",
    "    └── main.py\n",
    "```\n",
    "\n",
    "\n"
   ]
  }
 ],
 "metadata": {
  "language_info": {
   "name": "python"
  }
 },
 "nbformat": 4,
 "nbformat_minor": 2
}
