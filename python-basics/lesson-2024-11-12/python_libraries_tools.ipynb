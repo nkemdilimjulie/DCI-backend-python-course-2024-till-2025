{
 "cells": [
  {
   "cell_type": "markdown",
   "metadata": {},
   "source": [
    "# Python Tools and Libraries\n",
    "\n",
    "## Python Command Line Interface\n",
    "\n",
    "> CLI is a command line program that executes from a console(Terminal).\n",
    "\n",
    "- Windows uses the `MS-DOS`\n",
    "- Linux and MacOS uses the -> `Unix Kernel`"
   ]
  },
  {
   "cell_type": "markdown",
   "metadata": {},
   "source": [
    "![pros and cons of cli](cli_pros_cons.png)"
   ]
  },
  {
   "cell_type": "markdown",
   "metadata": {},
   "source": [
    "## CLI vs GUI\n",
    "> An Interface is a special piece of a software that allows interaction between components of a computer system and end users.\n",
    "- the Interface that helps to interact between software components and end users is commonly called: `User Interface`.\n",
    "- The two commonly used UIs are `GUI` and `CLI`."
   ]
  },
  {
   "cell_type": "markdown",
   "metadata": {},
   "source": [
    "![cli vs gui](cli_vs_gui.png)"
   ]
  },
  {
   "cell_type": "markdown",
   "metadata": {},
   "source": [
    "### Commands, Subcommands, Parameters(Arguments, Options)\n",
    "- **Command**: A program that runs at the command line or terminal window\n",
    "- **Parameters**\n",
    "    - **Arguments**: A required or optional piece of information that a command uses to perform its intended action.\n",
    "    - **Options**: `Flags`, or `Switch`. Are optional parameters that modifies a command's behavior.\n",
    "- **Subcommand**: A predefined name that can be passed to a command to run a specific action.\n",
    "\n",
    "#### How to identify commands, subcommands, arguments and options\n",
    "- Commands always start first.\n",
    "- Options either start with `-` or `--`\n",
    "- Arguments often come last\n",
    "- Subcommands often come after the command\n",
    "\n",
    "## Linux command example\n",
    "`ls -l test/`\n",
    "- `ls`: Command\n",
    "- `-l`: Option\n",
    "- `test/`: argument\n",
    "\n",
    "## Linux package manager\n",
    "`sudo apt install python3-venv`\n",
    "\n",
    "- `sudo`: Command\n",
    "- `apt`: Subcommand\n",
    "- `install`: Subcommand\n",
    "- `python3-venv`: argument"
   ]
  },
  {
   "cell_type": "markdown",
   "metadata": {},
   "source": []
  }
 ],
 "metadata": {
  "kernelspec": {
   "display_name": "base",
   "language": "python",
   "name": "python3"
  },
  "language_info": {
   "codemirror_mode": {
    "name": "ipython",
    "version": 3
   },
   "file_extension": ".py",
   "mimetype": "text/x-python",
   "name": "python",
   "nbconvert_exporter": "python",
   "pygments_lexer": "ipython3",
   "version": "3.11.5"
  }
 },
 "nbformat": 4,
 "nbformat_minor": 2
}
