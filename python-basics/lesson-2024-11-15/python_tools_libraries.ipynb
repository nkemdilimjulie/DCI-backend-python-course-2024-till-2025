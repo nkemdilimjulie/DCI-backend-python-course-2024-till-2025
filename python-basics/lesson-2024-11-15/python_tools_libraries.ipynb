{
 "cells": [
  {
   "cell_type": "markdown",
   "metadata": {},
   "source": [
    "# Virtual Environment\n",
    "> Is a lightweight Python installation with it's own package directories and a Python binary copy (or link).\n",
    "\n",
    "### Create VE\n",
    "```bash\n",
    "python -m venv <ve-folder> [--prompt <ve-name>]\n",
    "# example\n",
    "python -m venv .venv --prompt testing-ve\n",
    "```\n",
    "\n",
    "### Activate VE\n",
    "```bash\n",
    "source <ve-folder>/bin/activate\n",
    "# example\n",
    "source .venv/bin/activate\n",
    "```\n",
    "\n",
    "### Deactivate a VE\n",
    "```bash\n",
    "deactivate\n",
    "```\n",
    "\n",
    "### Commands \n",
    "- `pip install`: To install packages\n",
    "- `pip list`: To list all packages in the current active VE\n",
    "- `pip help`: Display information about the subcommands and options of pip\n",
    "- `pip freeze`: Display all installed packages in a requirement format\n",
    "\n"
   ]
  }
 ],
 "metadata": {
  "language_info": {
   "name": "python"
  }
 },
 "nbformat": 4,
 "nbformat_minor": 2
}
