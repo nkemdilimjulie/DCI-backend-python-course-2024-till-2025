{
 "cells": [
  {
   "cell_type": "markdown",
   "metadata": {},
   "source": [
    "# Python Testing\n",
    "- Basics\n",
    "    - Errors in Software\n",
    "    - Understanding problems with manual testing\n",
    "    - Understanding the concepts of Automated tests and the different automated tests."
   ]
  },
  {
   "cell_type": "markdown",
   "metadata": {},
   "source": [
    "## History about Testing\n",
    "- `Kent Beck`. introduced `JUnit` in Java that automated testing.\n",
    "- In 2001, Python introduced `PyUnit`, which the official package for testing in Python, then later, the community referred to it as `unittest`, which is the package that is imported for testing in Python"
   ]
  },
  {
   "cell_type": "markdown",
   "metadata": {},
   "source": [
    "### Quotes about Software failures or Errors\n",
    "- Software is written by humans and therefore has bugs\n",
    "- Program testing can be used to show the presence of bugs, but never to show their absence.\n",
    "- Never allow the same bug to bit you twice\n",
    "- Don't wait until you have a bug to step through your code\n",
    "- When you spend time to find and fix all bugs in your project, you can't complete the project in your life time."
   ]
  },
  {
   "cell_type": "markdown",
   "metadata": {},
   "source": [
    "> Make it work, make it right, make it fast\n",
    "\n",
    "## Points to consider while watching the video\n",
    "- Name of the mentioned companies or softwares\n",
    "- Reason for the bugs\n",
    "- Impact of the bug\n",
    "- Could the issue have been prevented?\n",
    "- If yes, what should have been done to prevent the error from having the consequence it\n",
    "had?\n",
    "- Could the issue have been prevented by letting a more senior software developer write\n",
    "the code?\n",
    "\n",
    "**Name**: AT&T\n",
    "**Reason**: Upgrading the software didn't take into account the speed of incoming calls. So, the switches were constantly resetting.\n",
    "\n",
    "**Impact of the bug**:\n",
    "- $75M \n",
    "- airlines reservations were canceled\n",
    "\n",
    "-------\n",
    "**Name**: Ariane - 5\n",
    "**Reason**: Fitting a 64 bits data into a 16 bits memory space\n",
    "**Impact**\n",
    "- 7 billions,\n",
    "- 10 years of effort wasted.\n",
    "\n",
    "**Name**: Mars Oribter\n",
    "**Reason**: \n",
    "- Miscalculation of safe position to enter mars.\n",
    "- Units conflicts. \n",
    "- Communication lost 49sec before the expected time.\n",
    "\n",
    "**Impact**\n",
    "- $327M\n"
   ]
  },
  {
   "cell_type": "code",
   "execution_count": 1,
   "metadata": {},
   "outputs": [
    {
     "ename": "SyntaxError",
     "evalue": "unterminated string literal (detected at line 2) (3508571470.py, line 2)",
     "output_type": "error",
     "traceback": [
      "\u001b[0;36m  Cell \u001b[0;32mIn[1], line 2\u001b[0;36m\u001b[0m\n\u001b[0;31m    print('hello world)\u001b[0m\n\u001b[0m          ^\u001b[0m\n\u001b[0;31mSyntaxError\u001b[0m\u001b[0;31m:\u001b[0m unterminated string literal (detected at line 2)\n"
     ]
    }
   ],
   "source": [
    "4 / 5\n",
    "print('hello world)\n",
    "\n",
    "print('this should not wor')"
   ]
  },
  {
   "cell_type": "code",
   "execution_count": 2,
   "metadata": {},
   "outputs": [],
   "source": [
    "# Functional Error\n",
    "\n",
    "def display_name():\n",
    "    name = 'Kevin'\n",
    "    return\n",
    "    print(name)"
   ]
  },
  {
   "cell_type": "code",
   "execution_count": 4,
   "metadata": {},
   "outputs": [],
   "source": [
    "display_name()"
   ]
  },
  {
   "cell_type": "code",
   "execution_count": 5,
   "metadata": {},
   "outputs": [],
   "source": [
    "# Logic Error\n",
    "# NB: Never use a mutable object as default value in the parameter\n",
    "def str_to_list_of_int(data_str, data=[]):\n",
    "    \"\"\"convert all numbers of the string to \n",
    "    int and return as a list\n",
    "    \"\"\"\n",
    "    for c in data_str:\n",
    "        data.append(int(c))\n",
    "    return data"
   ]
  },
  {
   "cell_type": "code",
   "execution_count": 6,
   "metadata": {},
   "outputs": [
    {
     "data": {
      "text/plain": [
       "[1, 2, 3, 4]"
      ]
     },
     "execution_count": 6,
     "metadata": {},
     "output_type": "execute_result"
    }
   ],
   "source": [
    "str_to_list_of_int('1234')"
   ]
  },
  {
   "cell_type": "code",
   "execution_count": 7,
   "metadata": {},
   "outputs": [
    {
     "data": {
      "text/plain": [
       "[1, 2, 3, 4, 9, 8, 7, 6]"
      ]
     },
     "execution_count": 7,
     "metadata": {},
     "output_type": "execute_result"
    }
   ],
   "source": [
    "str_to_list_of_int('9876')"
   ]
  },
  {
   "cell_type": "code",
   "execution_count": 8,
   "metadata": {},
   "outputs": [],
   "source": [
    "# Calculation errors\n",
    "def calc_average(*args) -> float:\n",
    "    count = 0\n",
    "    total = 0\n",
    "    for i in args:\n",
    "        total += i\n",
    "        count += 1\n",
    "    return total // count"
   ]
  },
  {
   "cell_type": "code",
   "execution_count": 9,
   "metadata": {},
   "outputs": [
    {
     "data": {
      "text/plain": [
       "2"
      ]
     },
     "execution_count": 9,
     "metadata": {},
     "output_type": "execute_result"
    }
   ],
   "source": [
    "calc_average(1,2,3,4) # 2.5"
   ]
  },
  {
   "cell_type": "code",
   "execution_count": 11,
   "metadata": {},
   "outputs": [
    {
     "name": "stdout",
     "output_type": "stream",
     "text": [
      "3\n"
     ]
    }
   ],
   "source": [
    "# Unit Level Bugs\n",
    "\n",
    "str_of_numbers = '1234' \n",
    "\n",
    "# str_to_list_of_int represents a unit\n",
    "list_of_numbers = str_to_list_of_int(str_of_numbers)\n",
    "\n",
    "# calc_average represents a unit\n",
    "result = calc_average(*list_of_numbers)\n",
    "print(result)\n"
   ]
  },
  {
   "cell_type": "code",
   "execution_count": 12,
   "metadata": {},
   "outputs": [
    {
     "name": "stdout",
     "output_type": "stream",
     "text": [
      "3\n"
     ]
    }
   ],
   "source": [
    "# System-level integration bugs\n",
    "\n",
    "str_of_numbers = '1234' \n",
    "\n",
    "list_of_numbers = str_to_list_of_int(str_of_numbers)\n",
    "result = calc_average(*list_of_numbers)\n",
    "print(result)"
   ]
  },
  {
   "cell_type": "code",
   "execution_count": 13,
   "metadata": {},
   "outputs": [],
   "source": [
    "# Out of bounds bugs\n",
    "\n",
    "class BadConfigError(ValueError):\n",
    "    pass \n",
    "\n",
    "class Server:\n",
    "    def __init__(self, cpu_freq, memory):\n",
    "        self.cpu_freq = cpu_freq \n",
    "        self.memory = memory\n",
    "\n",
    "    def run(self):\n",
    "        if self.cpu_freq > 2: # GHtz\n",
    "            if self.memory < 8:\n",
    "                raise BadConfigError('If the cpu is more than 2GHtz, your memory should be greater than 8G')\n",
    "        \n",
    "        print('Server running...')"
   ]
  },
  {
   "cell_type": "code",
   "execution_count": 15,
   "metadata": {},
   "outputs": [
    {
     "ename": "BadConfigError",
     "evalue": "If the cpu is more than 2GHtz, your memory should be greater than 8G",
     "output_type": "error",
     "traceback": [
      "\u001b[0;31m---------------------------------------------------------------------------\u001b[0m",
      "\u001b[0;31mBadConfigError\u001b[0m                            Traceback (most recent call last)",
      "Cell \u001b[0;32mIn[15], line 2\u001b[0m\n\u001b[1;32m      1\u001b[0m server \u001b[38;5;241m=\u001b[39m Server(\u001b[38;5;241m4\u001b[39m, \u001b[38;5;241m4\u001b[39m)\n\u001b[0;32m----> 2\u001b[0m server\u001b[38;5;241m.\u001b[39mrun()\n",
      "Cell \u001b[0;32mIn[13], line 14\u001b[0m, in \u001b[0;36mServer.run\u001b[0;34m(self)\u001b[0m\n\u001b[1;32m     12\u001b[0m \u001b[38;5;28;01mif\u001b[39;00m \u001b[38;5;28mself\u001b[39m\u001b[38;5;241m.\u001b[39mcpu_freq \u001b[38;5;241m>\u001b[39m \u001b[38;5;241m2\u001b[39m: \u001b[38;5;66;03m# GHtz\u001b[39;00m\n\u001b[1;32m     13\u001b[0m     \u001b[38;5;28;01mif\u001b[39;00m \u001b[38;5;28mself\u001b[39m\u001b[38;5;241m.\u001b[39mmemory \u001b[38;5;241m<\u001b[39m \u001b[38;5;241m8\u001b[39m:\n\u001b[0;32m---> 14\u001b[0m         \u001b[38;5;28;01mraise\u001b[39;00m BadConfigError(\u001b[38;5;124m'\u001b[39m\u001b[38;5;124mIf the cpu is more than 2GHtz, your memory should be greater than 8G\u001b[39m\u001b[38;5;124m'\u001b[39m)\n\u001b[1;32m     16\u001b[0m \u001b[38;5;28mprint\u001b[39m(\u001b[38;5;124m'\u001b[39m\u001b[38;5;124mServer running...\u001b[39m\u001b[38;5;124m'\u001b[39m)\n",
      "\u001b[0;31mBadConfigError\u001b[0m: If the cpu is more than 2GHtz, your memory should be greater than 8G"
     ]
    }
   ],
   "source": [
    "server = Server(4, 4)\n",
    "server.run()"
   ]
  },
  {
   "cell_type": "code",
   "execution_count": 16,
   "metadata": {},
   "outputs": [
    {
     "name": "stdout",
     "output_type": "stream",
     "text": [
      "Server running...\n"
     ]
    }
   ],
   "source": [
    "server = Server(4, 16)\n",
    "server.run()"
   ]
  },
  {
   "cell_type": "markdown",
   "metadata": {},
   "source": [
    "## QA -> Quality Assurance Engineer\n",
    "\n",
    "- `Precondition`: What is necessary to verify the functionality. We determine the state at which the application should be in, in order to test the functionality\n",
    "- `Steps`: What are the actions that need to succeed for this functionality\n",
    "- `Postcondition`: What is the expected state of the system at the end of the `Steps`\n",
    "\n",
    "\n",
    "**Change User Password**\n",
    "\n",
    "`Precondition`:\n",
    "\n",
    "- A user, `u1` exist\n",
    "- The user logged in as `u1`\n",
    "- The user is redirected to his profile page\n",
    "\n",
    "`Steps`\n",
    "\n",
    "- They usually use `action`, `expected result`, `success/fail`\n",
    "\n",
    "|Action      | Expected result     |Success/Fail |\n",
    "|:-----------|:--------------------:|:-----------|\n",
    "|Click on the change password button | The system dhows a dialog to insert a new password | Success |\n",
    "| Enter new password, `newpassword` | the dialog shows `12` asterisks in the password input box | Fail |\n",
    "\n",
    "\n",
    "`PostCondition`\n",
    "\n",
    "- The user `u1` password is now `newpassword`\n",
    "\n"
   ]
  },
  {
   "cell_type": "markdown",
   "metadata": {},
   "source": [
    "## Test Driven Development"
   ]
  },
  {
   "cell_type": "code",
   "execution_count": 18,
   "metadata": {},
   "outputs": [],
   "source": [
    "# multiplication function\n",
    "\n",
    "# Write test first\n",
    "\n",
    "def test_multiplication():\n",
    "    # Prepare\n",
    "    x = 4\n",
    "    y = 2\n",
    "    result = 8\n",
    "\n",
    "    # Act\n",
    "    answer = multiply(x, y) # 8\n",
    "\n",
    "    # Assert\n",
    "    assert result == answer, f'Expected answer is {result}, but got {answer}'"
   ]
  },
  {
   "cell_type": "code",
   "execution_count": 19,
   "metadata": {},
   "outputs": [
    {
     "ename": "NameError",
     "evalue": "name 'multiply' is not defined",
     "output_type": "error",
     "traceback": [
      "\u001b[0;31m---------------------------------------------------------------------------\u001b[0m",
      "\u001b[0;31mNameError\u001b[0m                                 Traceback (most recent call last)",
      "Cell \u001b[0;32mIn[19], line 1\u001b[0m\n\u001b[0;32m----> 1\u001b[0m test_multiplication()\n",
      "Cell \u001b[0;32mIn[18], line 12\u001b[0m, in \u001b[0;36mtest_multiplication\u001b[0;34m()\u001b[0m\n\u001b[1;32m      9\u001b[0m result \u001b[38;5;241m=\u001b[39m \u001b[38;5;241m8\u001b[39m\n\u001b[1;32m     11\u001b[0m \u001b[38;5;66;03m# Act\u001b[39;00m\n\u001b[0;32m---> 12\u001b[0m answer \u001b[38;5;241m=\u001b[39m multiply(x, y)\n\u001b[1;32m     14\u001b[0m \u001b[38;5;66;03m# Assert\u001b[39;00m\n\u001b[1;32m     15\u001b[0m \u001b[38;5;28;01massert\u001b[39;00m result \u001b[38;5;241m==\u001b[39m answer, \u001b[38;5;124mf\u001b[39m\u001b[38;5;124m'\u001b[39m\u001b[38;5;124mExpected answer is \u001b[39m\u001b[38;5;132;01m{\u001b[39;00mresult\u001b[38;5;132;01m}\u001b[39;00m\u001b[38;5;124m, but got \u001b[39m\u001b[38;5;132;01m{\u001b[39;00manswer\u001b[38;5;132;01m}\u001b[39;00m\u001b[38;5;124m'\u001b[39m\n",
      "\u001b[0;31mNameError\u001b[0m: name 'multiply' is not defined"
     ]
    }
   ],
   "source": [
    "test_multiplication() # NameError"
   ]
  },
  {
   "cell_type": "code",
   "execution_count": 25,
   "metadata": {},
   "outputs": [],
   "source": [
    "# Solution\n",
    "def multiply(x, y):\n",
    "    return x * y"
   ]
  },
  {
   "cell_type": "code",
   "execution_count": 26,
   "metadata": {},
   "outputs": [],
   "source": [
    "test_multiplication() # "
   ]
  },
  {
   "cell_type": "code",
   "execution_count": 27,
   "metadata": {},
   "outputs": [],
   "source": [
    "# Refector\n",
    "\n",
    "from operator import mul\n",
    "\n",
    "def multiply(x, y):\n",
    "    return mul(x, y)"
   ]
  },
  {
   "cell_type": "code",
   "execution_count": 28,
   "metadata": {},
   "outputs": [],
   "source": [
    "test_multiplication() # "
   ]
  },
  {
   "cell_type": "code",
   "execution_count": null,
   "metadata": {},
   "outputs": [],
   "source": [
    "multiply('2', '5')"
   ]
  }
 ],
 "metadata": {
  "kernelspec": {
   "display_name": "base",
   "language": "python",
   "name": "python3"
  },
  "language_info": {
   "codemirror_mode": {
    "name": "ipython",
    "version": 3
   },
   "file_extension": ".py",
   "mimetype": "text/x-python",
   "name": "python",
   "nbconvert_exporter": "python",
   "pygments_lexer": "ipython3",
   "version": "3.11.5"
  }
 },
 "nbformat": 4,
 "nbformat_minor": 2
}
