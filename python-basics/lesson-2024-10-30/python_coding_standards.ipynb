{
 "cells": [
  {
   "cell_type": "markdown",
   "metadata": {},
   "source": [
    "# Python Coding Standards\n",
    "\n",
    "\n",
    "## Why is Readability important?\n",
    "Readability mostly revolve around\n",
    "- Maintainability \n",
    "- Reducing technical debt\n",
    "- Collaboration in agile team\n",
    "- Successful project management\n",
    "\n",
    "### About Technical debt\n",
    "> It refers to the concept of accumulated problems in the software as a result of a compromise or a bad decision being made.\n",
    "\n",
    "Technical debts can be thought of in 2 ways\n",
    "- `Past to the Present`: The problem we are currently facing is as a result of previously written bad code.\n",
    "- `Present to the future`: The bad decision or shortcut we take now, will hunt us in the future.\n",
    "\n",
    "\n",
    "### Some Exceptions of Coding Standard\n",
    "- Hackathon\n",
    "- A script for a one-off task\n",
    "- Developing a proof of concept\n",
    "\n"
   ]
  },
  {
   "cell_type": "markdown",
   "metadata": {},
   "source": [
    "## Exercise\n",
    "Read about the `PEP8`, `PEP257`, `PEP3107`, and improve the code quality of `dice game`, `tictactoe` game."
   ]
  },
  {
   "cell_type": "markdown",
   "metadata": {},
   "source": []
  }
 ],
 "metadata": {
  "language_info": {
   "name": "python"
  }
 },
 "nbformat": 4,
 "nbformat_minor": 2
}
