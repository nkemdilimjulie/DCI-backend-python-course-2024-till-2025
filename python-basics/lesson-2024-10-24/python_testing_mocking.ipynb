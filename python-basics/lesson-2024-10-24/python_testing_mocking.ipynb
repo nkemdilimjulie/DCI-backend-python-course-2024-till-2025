{
 "cells": [
  {
   "cell_type": "markdown",
   "metadata": {},
   "source": [
    "# Python Testing\n",
    "- setUp and tearDown\n",
    "- Unit testing and integration testing\n",
    "- Mocking and Stubbing"
   ]
  },
  {
   "cell_type": "markdown",
   "metadata": {},
   "source": [
    "## setUp and tearDown\n",
    "If you have common configurations in all your unit tests, then you can move them into the `setUp` method, so as to avoid repeating yourself.\n",
    "\n",
    "### setUp\n",
    "> setUp method will run before every unit test, setting up the ground for each unit test.\n",
    "\n",
    "\n",
    "Another common way to use `setUp` is when we are testing methods of a class. Here, we will need to create an object of that class for every unit test. So, this instantiation can be done in the `setUp`\n",
    "\n",
    "### Exercise\n",
    "Given the class below, build two unit tests for the `convert_to_decimal` method\n",
    "\n",
    "- Given a string of `0s` and `1a`, check that the right decimal is return\n",
    "- Given a non binary string, test that it raises `NotBinaryError`\n"
   ]
  },
  {
   "cell_type": "code",
   "execution_count": null,
   "metadata": {},
   "outputs": [],
   "source": [
    "class BinaryConverter:\n",
    "    def __init__(self):\n",
    "        self.accepted_binary = '01'\n",
    "\n",
    "    def convert_to_decimal(self, binary: str):\n",
    "        return int(binary, base=2)"
   ]
  },
  {
   "cell_type": "markdown",
   "metadata": {},
   "source": [
    "## tearDown\n",
    "On the other hand, if we need to do some cleanup after every unit test, then we can do so in the `tearDown` method\n",
    "\n",
    "**When is is commonly used**\n",
    "- Closing files\n",
    "- resetting the database\n"
   ]
  },
  {
   "cell_type": "markdown",
   "metadata": {},
   "source": [
    "## Integration Test\n",
    "> Unit testing is the testing of the smallest testable entity of our code\n",
    "\n",
    "> Integration testing is the testing of interconnected units of our code.\n",
    "\n",
    "- engine\n",
    "- wheels\n",
    "- gear\n",
    "- break\n",
    "\n",
    "### Sociable and Solitary unit test\n",
    "We have two types of unit test\n",
    "- `Sociable unit test`: This is a unit test that depend on another unit. So, testing one unit is indirectly testing the underlying unit\n",
    "- `Solitary unit test`: This is unit test that doesn't depend on any underlying unit.\n",
    "\n",
    "When we are talking about integration testing, we usually refer to different components that exist and can be separated, or are of different architectures.\n",
    "\n",
    "- Testing backend and frontend\n",
    "- Testing `add to cart` and `purchase`"
   ]
  },
  {
   "cell_type": "markdown",
   "metadata": {},
   "source": [
    "## When to run your tests\n",
    "- We want to run `unit tests` frequently as we develop. This usually mean, we run only the unit test of the piece of code that was directly or indirectly affected during development.\n",
    "- We want to run `integration` test only when we are at a stable point where  all our unit test are successful.\n",
    "\n",
    "From the example below\n",
    "- `addition()` -> **Solitary**\n",
    "- `multiply()` -> **Sociable**"
   ]
  },
  {
   "cell_type": "code",
   "execution_count": 1,
   "metadata": {},
   "outputs": [],
   "source": [
    "def addition(*args):\n",
    "    total = 0\n",
    "    for value in args:\n",
    "        total += value \n",
    "    return total\n",
    "\n",
    "def multiply(numb1, numb2):\n",
    "    total = 0\n",
    "    for _ in range(numb2):\n",
    "        total = addition(total, numb1)\n",
    "    return total\n",
    "\n",
    "# 3, 4\n",
    "# 4 + 4 + 4"
   ]
  },
  {
   "cell_type": "code",
   "execution_count": 2,
   "metadata": {},
   "outputs": [
    {
     "data": {
      "text/plain": [
       "6"
      ]
     },
     "execution_count": 2,
     "metadata": {},
     "output_type": "execute_result"
    }
   ],
   "source": [
    "addition(1,2,3)"
   ]
  },
  {
   "cell_type": "code",
   "execution_count": 3,
   "metadata": {},
   "outputs": [
    {
     "data": {
      "text/plain": [
       "12"
      ]
     },
     "execution_count": 3,
     "metadata": {},
     "output_type": "execute_result"
    }
   ],
   "source": [
    "multiply(3, 4)"
   ]
  },
  {
   "cell_type": "markdown",
   "metadata": {},
   "source": [
    "# Mocking\n",
    "> Mocking is the act of providing simplified imitation for an object we don't want to test at the moment.\n",
    "\n",
    "\n",
    "## Why Do we Mock\n",
    "- We don't want to test a piece of code that has been tested already\n",
    "- We don't want to test risky or expensive operation like connection to the cloud, or connecting to the database.\n"
   ]
  },
  {
   "cell_type": "markdown",
   "metadata": {},
   "source": [
    "## How to build a mock\n",
    "- The `unittest` module has a class called `mock` where we can import `patch`, to create our mock\n",
    "\n",
    "```python\n",
    "from unittest.mock import patch\n",
    "```\n",
    "\n",
    "We have two ways by which we can use `patch`\n",
    "- As a decorator\n",
    "- As a context manager with the `with` statement."
   ]
  },
  {
   "cell_type": "markdown",
   "metadata": {},
   "source": []
  }
 ],
 "metadata": {
  "kernelspec": {
   "display_name": "base",
   "language": "python",
   "name": "python3"
  },
  "language_info": {
   "codemirror_mode": {
    "name": "ipython",
    "version": 3
   },
   "file_extension": ".py",
   "mimetype": "text/x-python",
   "name": "python",
   "nbconvert_exporter": "python",
   "pygments_lexer": "ipython3",
   "version": "3.11.5"
  }
 },
 "nbformat": 4,
 "nbformat_minor": 2
}
