{
 "cells": [
  {
   "cell_type": "markdown",
   "metadata": {},
   "source": [
    "# Namespace Packages\n",
    "## Exercise\n",
    "- Create two namespace packages called\n",
    "    - `calculator_old`\n",
    "    - `calculator_new`\n",
    "\n",
    "- Unify the two namespace packages such that we can do the following\n",
    "\n",
    "```python\n",
    "# add -> calculator_old\n",
    "# sub -> calculator_new\n",
    "from calc import add, sub\n",
    "\n",
    "print(add.addition(2,3)) # 5\n",
    "print(sub.subtract(5,4)) # 1\n",
    "```"
   ]
  },
  {
   "cell_type": "markdown",
   "metadata": {},
   "source": [
    "# Publish a Package on PyPi\n",
    "\n",
    "In this example, we will use the `testPypi` for testing purposes.\n",
    "\n",
    "## Out Project\n",
    "We shall call our project `base_math`.\n",
    "\n",
    "Inside the project, we will have a `src` folder, where will have the name `<project-name>_<Your-testpypi-USERNAME>`.\n",
    "\n",
    "For example, mine will be `math_EyongKevin`.\n",
    "\n",
    "Inside, we will have all our python modules\n",
    "\n",
    "```\n",
    ".base_math\n",
    "├── REAMDE.md\n",
    "└── src\n",
    "    └── math_EyongKevin\n",
    "        ├── __init__.py\n",
    "        ├── calc.py\n",
    "        └── version.py\n",
    "```\n"
   ]
  },
  {
   "cell_type": "markdown",
   "metadata": {},
   "source": [
    "## Creating Packaging files\n",
    "- `LICENCE`: This tells those installing your package under which terms they should use it.\n",
    "- `pyproject.toml` Will containing instructions about the frontend build tools like `pip`, and the backend tools used to distribute the package, for example `setuptools`.\n",
    "    - `toml` stands for `Tom's Obvious Minimal Language`\n",
    "\n",
    "\n",
    "```\n",
    ".base_math\n",
    "├── LICENCE\n",
    "├── REAMDE.md\n",
    "├── pyproject.toml\n",
    "└── src\n",
    "    └── math_EyongKevin\n",
    "        ├── __init__.py\n",
    "        ├── calc.py\n",
    "        └── version.py\n",
    "```"
   ]
  },
  {
   "cell_type": "markdown",
   "metadata": {},
   "source": [
    "## Generating distribution archives\n",
    "\n",
    "- Make sure your pip is up to date: `python3 -m pip install --upgrade pip`\n",
    "- In a virtual environment;\n",
    "    - Install the `build` that will be used to create the distributions. `python3 -m pip install --upgrade build`\n",
    "    - Create the distribution: `python3 -m build`.\n",
    "\n",
    "\n",
    "## Upload to TestPyPi\n",
    "\n",
    "### Requirements \n",
    "- Create an account in [testpypi](https://test.pypi.org/).\n",
    "- Set up a token.\n",
    "    - <account-name> -> `Account settings`.\n",
    "    - Copy the token configuration and paste in `$Home/.pypirc`\n",
    "\n",
    "### Install package to upload to TestPyPi\n",
    "- Install `Twine` with `python3 -m pip install --upgrade twine`.\n",
    "\n",
    "### Push distribution to TestPyPi\n",
    "`python3 -m twine upload -r[--repository] testpypi dist/*`\n",
    "\n"
   ]
  },
  {
   "cell_type": "markdown",
   "metadata": {},
   "source": []
  }
 ],
 "metadata": {
  "language_info": {
   "name": "python"
  }
 },
 "nbformat": 4,
 "nbformat_minor": 2
}
