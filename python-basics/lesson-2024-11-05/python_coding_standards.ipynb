{
 "cells": [
  {
   "cell_type": "markdown",
   "metadata": {},
   "source": [
    "## VScode Extensions\n",
    "### Python \n",
    "The `Python` extension by Microsoft provides vscode with the Python interpreter\n",
    "\n",
    "### Pylint\n",
    "The `Pylint` by microsoft provides linting support for Python's file\n",
    "\n",
    "### Python indent\n",
    "For proper indentation in Python\n",
    "\n",
    "### autoDocstring\n",
    "For auto-generation of docstrings.\n",
    "\n",
    "### black formatter\n",
    "For formatting our code based on a linter\n",
    "\n",
    "### isort\n",
    "To organize our imports\n",
    "\n",
    "\n",
    "## Self-study\n",
    "### Better Comment and Todo Tree\n",
    "For better commenting and also a Tree-like representation of all better comments.\n",
    "\n",
    "### BookMarks\n",
    "To bookmark lines of code like you would do in your web browser.\n",
    "\n",
    "### Code Smell Checker\n",
    "To  check code against wrong spellings.\n"
   ]
  }
 ],
 "metadata": {
  "language_info": {
   "name": "python"
  }
 },
 "nbformat": 4,
 "nbformat_minor": 2
}
