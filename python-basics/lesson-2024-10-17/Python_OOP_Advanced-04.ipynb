{
 "cells": [
  {
   "cell_type": "markdown",
   "metadata": {},
   "source": [
    "# Design Patterns\n",
    "\n",
    "## Behavioral Pattern\n",
    "> Design patterns that governs the effective communication and the assignment of responsibilities among objects.\n",
    "\n",
    "### Strategy Pattern\n",
    "- Most problems have more than one solutions. And the choice of solution can be based on some criteria.\n",
    "\n",
    "### Example: Sorting problem\n",
    "The `bubble`, `merge` sort. \n",
    "\n",
    "Some of the criteria can be;\n",
    "- Number of element to be sorted\n",
    "- Best/Average/Worse case time complexity\n",
    "- Space complexity\n",
    "- Code complexity\n",
    "- Stability of the algorithm.  Maintaining the same order for elements with equal values.\n",
    "\n",
    "```python\n",
    "obj1.x = 1\n",
    "obj3.x = 5\n",
    "obj5.x = 0\n",
    "obj7.x = 5\n",
    "\n",
    "[obj1, obj3, obj5, obj7]\n",
    "[ obj3, obj7, obj1, obj5] # descending of x by maintaining the order of similar objects\n",
    "```\n",
    "\n",
    "#### Example: Bubble and Merge\n",
    "- Bubble sort is very simple and works well with data of small sizes\n",
    "- Merge sort is complex and works well with large data sets.\n"
   ]
  },
  {
   "cell_type": "markdown",
   "metadata": {},
   "source": [
    "## SimUDuck Game\n",
    "This example come from one of first books on design patters: `First design Patterns`.\n",
    "\n",
    "\n",
    "### Game Idea\n",
    "SimUDuck is a duck pond simulation game that shows large variety of duck species swimming and quacking\n",
    "\n",
    "**Developer: ** Kevin\n",
    "\n",
    "Start with a parent Duck, then all other ducks will inherit from the parent."
   ]
  },
  {
   "cell_type": "code",
   "execution_count": 1,
   "metadata": {},
   "outputs": [],
   "source": [
    "# Parent class\n",
    "\n",
    "from abc import ABC, abstractmethod \n",
    "\n",
    "class Duck(ABC):\n",
    "    def quack(self):\n",
    "        print('quack')\n",
    "\n",
    "    def swim(self):\n",
    "        print('swim')\n",
    "\n",
    "    @abstractmethod\n",
    "    def look(self):\n",
    "        ..."
   ]
  },
  {
   "cell_type": "code",
   "execution_count": 2,
   "metadata": {},
   "outputs": [],
   "source": [
    "# Child duck classes\n",
    "class RedHeadDuck(Duck):\n",
    "    def look(self):\n",
    "        print('looks like a red head')\n",
    "\n",
    "class MallardDuck(Duck):\n",
    "    def look(self):\n",
    "        print('looks like a mallard')\n",
    "\n",
    "class RubberDuck(Duck):\n",
    "    def look(self):\n",
    "        print('looks like a rubber')\n",
    "\n",
    "# 27 more ducks bellow"
   ]
  },
  {
   "cell_type": "markdown",
   "metadata": {},
   "source": [
    "### Flying Duck\n",
    "Over a year, the company decides to add `Flying` to the ducks.\n",
    "\n",
    "Kevin decides to\n",
    "> Add `fly()` method to the Duck parent class so that all child classes will inherit"
   ]
  },
  {
   "cell_type": "code",
   "execution_count": 3,
   "metadata": {},
   "outputs": [],
   "source": [
    "# Parent class\n",
    "\n",
    "from abc import ABC, abstractmethod \n",
    "\n",
    "class Duck(ABC):\n",
    "    def quack(self):\n",
    "        print('quack')\n",
    "\n",
    "    def swim(self):\n",
    "        print('swim')\n",
    "\n",
    "    def fly(self):\n",
    "        print('fly')\n",
    "\n",
    "    @abstractmethod\n",
    "    def look(self):\n",
    "        ..."
   ]
  },
  {
   "cell_type": "code",
   "execution_count": 4,
   "metadata": {},
   "outputs": [],
   "source": [
    "# Child duck classes\n",
    "class RedHeadDuck(Duck):\n",
    "    def look(self):\n",
    "        print('looks like a red head')\n",
    "\n",
    "class MallardDuck(Duck):\n",
    "    def look(self):\n",
    "        print('looks like a mallard')\n",
    "\n",
    "class RubberDuck(Duck):\n",
    "    def look(self):\n",
    "        print('looks like a rubber')\n",
    "\n",
    "# 27 more ducks bellow"
   ]
  },
  {
   "cell_type": "markdown",
   "metadata": {},
   "source": [
    "## Something is Wrong\n",
    "Few days later, kevin receives a call from the PO\n",
    "> Hey kevin, I am at the meeting with some shareholders and they just gave a demo and they were `rubber duckies` flying around the screen. Was this your idea of a joke?\n",
    "\n",
    "\n",
    "How does Kevin fix it?\n",
    "> Override the `fly()` method in the RubberDuck class so that it doesn't fly"
   ]
  },
  {
   "cell_type": "code",
   "execution_count": 5,
   "metadata": {},
   "outputs": [],
   "source": [
    "# Child duck classes\n",
    "class RedHeadDuck(Duck):\n",
    "    def look(self):\n",
    "        print('looks like a red head')\n",
    "\n",
    "class MallardDuck(Duck):\n",
    "    def look(self):\n",
    "        print('looks like a mallard')\n",
    "\n",
    "class RubberDuck(Duck):\n",
    "    def look(self):\n",
    "        print('looks like a rubber')\n",
    "    \n",
    "    def fly(self):\n",
    "        print('cannot fly')\n",
    "\n",
    "    def quack(self):\n",
    "        print('squeak')\n",
    "\n",
    "# 27 more ducks bellow"
   ]
  },
  {
   "cell_type": "markdown",
   "metadata": {},
   "source": [
    "### Maintenance issues caused by Inheritance\n",
    "\n",
    "If the management decides to introduce another duck called `wooden decoy duck`.\n",
    "\n",
    "Kevin thinks of a technique that leverages `multiple inheritance` also called `mixins`.\n",
    "\n",
    "> Mixin is a special type of multiple inheritance where the parent class is made very small and specific.\n",
    "\n",
    "Kevin decides to isolate functionalities that will change a lot, like `flying` and `quacking`. So, kevin creates the classes `FlyMixin` and `QuackMixin`\n"
   ]
  },
  {
   "cell_type": "code",
   "execution_count": 6,
   "metadata": {},
   "outputs": [],
   "source": [
    "# Parent class\n",
    "\n",
    "from abc import ABC, abstractmethod \n",
    "\n",
    "class Duck(ABC):\n",
    "    def swim(self):\n",
    "        print('swim')\n",
    "\n",
    "    @abstractmethod\n",
    "    def look(self):\n",
    "        ..."
   ]
  },
  {
   "cell_type": "code",
   "execution_count": 7,
   "metadata": {},
   "outputs": [],
   "source": [
    "# Mixins\n",
    "class FlyMixin:\n",
    "    def fly(self):\n",
    "        print('fly')\n",
    "\n",
    "class QuackMixin:\n",
    "    def quack(self):\n",
    "        print('quack')"
   ]
  },
  {
   "cell_type": "code",
   "execution_count": 8,
   "metadata": {},
   "outputs": [],
   "source": [
    "# Child duck classes\n",
    "class RedHeadDuck(Duck, FlyMixin, QuackMixin):\n",
    "    def look(self):\n",
    "        print('looks like a red head')\n",
    "\n",
    "class MallardDuck(Duck, FlyMixin, QuackMixin):\n",
    "    def look(self):\n",
    "        print('looks like a mallard')\n",
    "\n",
    "class RubberDuck(Duck, QuackMixin):\n",
    "    def look(self):\n",
    "        print('looks like a rubber')\n",
    "\n",
    "    def quack(self):\n",
    "        print('squeak')\n",
    "\n",
    "class WoodenDecoyDuck(Duck):\n",
    "    def look(self):\n",
    "        print('looks like a wood')\n",
    "\n",
    "# 27 more ducks bellow"
   ]
  },
  {
   "cell_type": "markdown",
   "metadata": {},
   "source": [
    "What if the flying behavior of many ducks differ? \n",
    "What if the quacking behavior of many ducks differ. \n",
    "What if other methods start differing.\n",
    "\n",
    "## OOP Design Principles\n",
    "\n",
    "> Identify the aspects of your application that vary and separate them from what stays the same.\n",
    "\n",
    "Kevin realizes that the part of his code that changes frequently are `flying` and `quacking`. "
   ]
  },
  {
   "cell_type": "code",
   "execution_count": 9,
   "metadata": {},
   "outputs": [],
   "source": [
    "class FlyingBehavior(ABC):\n",
    "    @abstractmethod\n",
    "    def fly(self):\n",
    "        ...\n",
    "\n",
    "class QuackBehavior(ABC):\n",
    "    @abstractmethod\n",
    "    def quack(self):\n",
    "        ..."
   ]
  },
  {
   "cell_type": "code",
   "execution_count": 10,
   "metadata": {},
   "outputs": [],
   "source": [
    "# - quack, squeak, mutequack\n",
    "class Quack(QuackBehavior):\n",
    "    def quack(self):\n",
    "        print('quack')\n",
    "\n",
    "class Squeak(QuackBehavior):\n",
    "    def quack(self):\n",
    "        print('squeak')\n",
    "\n",
    "class MuteQuack(QuackBehavior):\n",
    "    def quack(self):\n",
    "        print('silence')"
   ]
  },
  {
   "cell_type": "code",
   "execution_count": 11,
   "metadata": {},
   "outputs": [],
   "source": [
    "## - Flying with wings, Not Flying, Flying without wings\n",
    "\n",
    "class FlyWithWings(FlyingBehavior):\n",
    "    def fly(self):\n",
    "        print('Fly with Wings')\n",
    "\n",
    "class FlyNoWay(FlyingBehavior):\n",
    "    def fly(self):\n",
    "        print('cannot fly')\n",
    "\n",
    "class FlyWithoutWings(FlyingBehavior):\n",
    "    def fly(self):\n",
    "        print('Fly without Wings')"
   ]
  },
  {
   "cell_type": "markdown",
   "metadata": {},
   "source": []
  },
  {
   "cell_type": "markdown",
   "metadata": {},
   "source": [
    "### Integrate Duck behaviors\n",
    "\n",
    "Kevin thinks about how he can integrate the duck behaviors. \n",
    "\n",
    "- `Inheritance`: The relationship that inheritance establish is `is a/an`\n",
    "\n",
    "> A Red Head Duck `is a` FlyingWithWings Behavior\n",
    "\n",
    "- `Composition`\n",
    "    - Composition establishes the relationship `has a/an`\n",
    "\n",
    "> A Red Head Duck `has a` FlyingWithWings Behavior\n",
    "\n",
    "-> Assign the behaviors to attributes rather than inheriting."
   ]
  },
  {
   "cell_type": "code",
   "execution_count": 12,
   "metadata": {},
   "outputs": [],
   "source": [
    "# Parent Duck\n",
    "class Duck(ABC):\n",
    "    def __init__(self):\n",
    "        self.fly_behavior: FlyingBehavior\n",
    "        self.quack_behavior: QuackBehavior\n",
    "\n",
    "    def fly(self):\n",
    "        self.fly_behavior.fly()\n",
    "\n",
    "    def quack(self):\n",
    "        self.quack_behavior.quack()\n",
    "\n",
    "    def swim(self):\n",
    "        print('swim')\n",
    "\n",
    "    @abstractmethod\n",
    "    def look(self):\n",
    "        ..."
   ]
  },
  {
   "cell_type": "code",
   "execution_count": 14,
   "metadata": {},
   "outputs": [],
   "source": [
    "# Child ducks\n",
    "\n",
    "class RedHeadDuck(Duck):\n",
    "    def __init__(self):\n",
    "        self.fly_behavior = FlyWithWings()\n",
    "        self.quack_behavior = Quack()\n",
    "\n",
    "    def look(self):\n",
    "        print('looks like a red head')\n",
    "\n",
    "class RubberDuck(Duck):\n",
    "    def __init__(self):\n",
    "        self.fly_behavior = FlyNoWay()\n",
    "        self.quack_behavior = Squeak()\n",
    "    \n",
    "    def look(self):\n",
    "        print('looks like a rubber')\n",
    "\n",
    "# remaining 28 ducks"
   ]
  },
  {
   "cell_type": "code",
   "execution_count": 15,
   "metadata": {},
   "outputs": [],
   "source": [
    "red_head_duck = RedHeadDuck()\n",
    "rubber_duck = RubberDuck()"
   ]
  },
  {
   "cell_type": "code",
   "execution_count": 16,
   "metadata": {},
   "outputs": [
    {
     "name": "stdout",
     "output_type": "stream",
     "text": [
      "Fly with Wings\n"
     ]
    }
   ],
   "source": [
    "red_head_duck.fly()"
   ]
  },
  {
   "cell_type": "code",
   "execution_count": 17,
   "metadata": {},
   "outputs": [
    {
     "name": "stdout",
     "output_type": "stream",
     "text": [
      "cannot fly\n"
     ]
    }
   ],
   "source": [
    "rubber_duck.fly()"
   ]
  },
  {
   "cell_type": "code",
   "execution_count": 18,
   "metadata": {},
   "outputs": [
    {
     "name": "stdout",
     "output_type": "stream",
     "text": [
      "Fly with Wings\n"
     ]
    }
   ],
   "source": [
    "rubber_duck.fly_behavior = FlyWithWings()\n",
    "rubber_duck.fly()"
   ]
  },
  {
   "cell_type": "code",
   "execution_count": null,
   "metadata": {},
   "outputs": [],
   "source": []
  }
 ],
 "metadata": {
  "kernelspec": {
   "display_name": "base",
   "language": "python",
   "name": "python3"
  },
  "language_info": {
   "codemirror_mode": {
    "name": "ipython",
    "version": 3
   },
   "file_extension": ".py",
   "mimetype": "text/x-python",
   "name": "python",
   "nbconvert_exporter": "python",
   "pygments_lexer": "ipython3",
   "version": "3.11.5"
  }
 },
 "nbformat": 4,
 "nbformat_minor": 2
}
