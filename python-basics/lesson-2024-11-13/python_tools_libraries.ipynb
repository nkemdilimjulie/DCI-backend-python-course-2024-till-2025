{
 "cells": [
  {
   "cell_type": "markdown",
   "metadata": {},
   "source": [
    "# Python Tools and Libraries\n",
    "\n",
    "## CLI libraries for more complex CLI programs\n",
    "- Click\n",
    "- Typer\n",
    "- argparse\n",
    "\n",
    "# argparse\n",
    "Some of the things it allows us to do\n",
    "- Parse command-line arguments and options\n",
    "- Provide subcommands\n",
    "- Build constructive documentations\n",
    "\n",
    "## Linux Command Line App with argparse\n",
    "- import `argparse`\n",
    "- create argument parser to start receiving arguments and options.\n",
    "- Add arguments and options to the parser object.\n",
    "- Access all the arguments and options from the parser object\n",
    "- Add the CLI login"
   ]
  },
  {
   "cell_type": "markdown",
   "metadata": {},
   "source": [
    "### How to run\n",
    "```bash\n",
    "python3 src/ls.py .\n",
    "python3 src/ls.py src\n",
    "python3 src/ls.py -h\n",
    "```"
   ]
  },
  {
   "cell_type": "markdown",
   "metadata": {},
   "source": [
    "### Extra features to notice\n",
    "- An auto-generated user guide\n",
    "- It issues errors in response to invalid arguments "
   ]
  },
  {
   "cell_type": "markdown",
   "metadata": {},
   "source": [
    "## Improving our CLI\n",
    "\n",
    "### argparse argument types\n",
    "the argparse recognizes two types of arguments\n",
    "\n",
    "- **Positional arguments**\n",
    "    - also known as argument\n",
    "    - Are called positional because their relative position in the command construct defines their purpose.\n",
    "- **Optional arguments**\n",
    "    - Also known as `options`, `flags` or `swtiches`\n",
    "\n",
    "### Arguments and options\n",
    "\n",
    "#### Setting default values for positional arguments\n",
    "- We need to make the positional argument optional with `?`\n",
    "    - `nargs`: This refers to the number of arguments. We will assign it to `?` to indicate `0` or `1`.\n",
    "- We will define a default value to fall back.\n",
    "    - `default`: This will set the default value if no value is provided\n",
    "\n",
    "#### Set optional arguments (options)\n",
    "- Options comes in two forms\n",
    "    - `short options` that starts with `-`\n",
    "    - `long options` that starts with `--`\n",
    "- The argparse provides the `action` attribute that will help us configure out option \n",
    "    - `store_true`: when the option is provided, it takes in `True`. When not provided, it takes in `False`\n",
    "\n",
    "**NB**: The long option always hold the boolean value and not the short option.\n",
    "\n",
    "\n",
    "# Extra\n",
    "## Add a description to the project\n",
    "- `description` attribute of the `argparse.ArgumentParser` will help us describe our project.\n",
    "\n",
    "## Add help text to arguments and options\n",
    "- `help` attribute of `add_argument` provides help text\n"
   ]
  },
  {
   "cell_type": "markdown",
   "metadata": {},
   "source": [
    "### Exercise\n",
    "Modify the code above to achieve the following\n",
    "\n",
    "#### Ex1: Argument\n",
    "We should be able to call our program with zero or more arguments. If for example 2 arguments are provided, then the result should look like what the Unix command will display.\n",
    "\n",
    "#### Ex2: Option\n",
    "Investigate the unix `ls` command with `ls -h` and select an option of your choice, understand its behavior and implement the same in this program.\n",
    "\n",
    "#### Ex3: Code Count app\n",
    "Modify the code count app such that we can \n",
    "- Specify the folders and files to check when running the command\n",
    "- Provide an option to determine if test files should be considered or not. Call it `-t` and `--test`.\n",
    "\n",
    "```python\n",
    "python3 -m code_count -t src tests \n",
    "```\n"
   ]
  },
  {
   "cell_type": "markdown",
   "metadata": {},
   "source": []
  }
 ],
 "metadata": {
  "language_info": {
   "name": "python"
  }
 },
 "nbformat": 4,
 "nbformat_minor": 2
}
