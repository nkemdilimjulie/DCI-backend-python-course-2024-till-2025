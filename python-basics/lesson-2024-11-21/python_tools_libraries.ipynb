{
 "cells": [
  {
   "cell_type": "markdown",
   "metadata": {},
   "source": [
    "## Upload to TestPyPi\n",
    "\n",
    "### Push distribution to TestPyPi\n",
    "`python3 -m twine upload -r[--repository] testpypi dist/*`\n",
    "\n",
    "To publish a specific version of the distribution\n",
    "\n",
    "`python3 -m twine upload -r testpypi dist/*<version>/*` \n",
    "\n",
    "where `<version>` is the version we are publishing."
   ]
  },
  {
   "cell_type": "markdown",
   "metadata": {},
   "source": []
  }
 ],
 "metadata": {
  "language_info": {
   "name": "python"
  }
 },
 "nbformat": 4,
 "nbformat_minor": 2
}
