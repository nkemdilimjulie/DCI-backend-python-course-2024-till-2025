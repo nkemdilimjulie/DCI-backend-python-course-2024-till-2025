{
 "cells": [
  {
   "cell_type": "markdown",
   "metadata": {},
   "source": [
    "# Python Tools and Libraries\n",
    "\n",
    "## Scripts\n",
    "\n",
    "> A Python script is generally a file that contain code written in Python, that is **intended** to be run directly and perform a specific task.\n",
    "\n"
   ]
  },
  {
   "cell_type": "markdown",
   "metadata": {},
   "source": [
    "## LEGB rule"
   ]
  },
  {
   "cell_type": "code",
   "execution_count": 2,
   "metadata": {},
   "outputs": [],
   "source": [
    "from collections import ChainMap\n",
    "\n",
    "local = {'name': 'Eyong'}\n",
    "enclosing = {'name': 'Kevin', 'age': 30}\n",
    "global_ = {'age': 40, 'gender': 'male'}\n",
    "built_in = {'gender': 'female', 'height': 2.7}\n",
    "\n",
    "\n",
    "ns = ChainMap(local, enclosing, global_, built_in)"
   ]
  },
  {
   "cell_type": "code",
   "execution_count": 3,
   "metadata": {},
   "outputs": [
    {
     "name": "stdout",
     "output_type": "stream",
     "text": [
      "Eyong\n",
      "30\n",
      "male\n",
      "2.7\n"
     ]
    },
    {
     "ename": "KeyError",
     "evalue": "'weight'",
     "output_type": "error",
     "traceback": [
      "\u001b[0;31m---------------------------------------------------------------------------\u001b[0m",
      "\u001b[0;31mKeyError\u001b[0m                                  Traceback (most recent call last)",
      "Cell \u001b[0;32mIn[3], line 5\u001b[0m\n\u001b[1;32m      3\u001b[0m \u001b[38;5;28mprint\u001b[39m(ns[\u001b[38;5;124m'\u001b[39m\u001b[38;5;124mgender\u001b[39m\u001b[38;5;124m'\u001b[39m]) \u001b[38;5;66;03m# male\u001b[39;00m\n\u001b[1;32m      4\u001b[0m \u001b[38;5;28mprint\u001b[39m(ns[\u001b[38;5;124m'\u001b[39m\u001b[38;5;124mheight\u001b[39m\u001b[38;5;124m'\u001b[39m]) \u001b[38;5;66;03m# 2.7\u001b[39;00m\n\u001b[0;32m----> 5\u001b[0m \u001b[38;5;28mprint\u001b[39m(ns[\u001b[38;5;124m'\u001b[39m\u001b[38;5;124mweight\u001b[39m\u001b[38;5;124m'\u001b[39m])\n",
      "File \u001b[0;32m~/anaconda3/lib/python3.11/collections/__init__.py:1006\u001b[0m, in \u001b[0;36mChainMap.__getitem__\u001b[0;34m(self, key)\u001b[0m\n\u001b[1;32m   1004\u001b[0m     \u001b[38;5;28;01mexcept\u001b[39;00m \u001b[38;5;167;01mKeyError\u001b[39;00m:\n\u001b[1;32m   1005\u001b[0m         \u001b[38;5;28;01mpass\u001b[39;00m\n\u001b[0;32m-> 1006\u001b[0m \u001b[38;5;28;01mreturn\u001b[39;00m \u001b[38;5;28mself\u001b[39m\u001b[38;5;241m.\u001b[39m\u001b[38;5;21m__missing__\u001b[39m(key)\n",
      "File \u001b[0;32m~/anaconda3/lib/python3.11/collections/__init__.py:998\u001b[0m, in \u001b[0;36mChainMap.__missing__\u001b[0;34m(self, key)\u001b[0m\n\u001b[1;32m    997\u001b[0m \u001b[38;5;28;01mdef\u001b[39;00m \u001b[38;5;21m__missing__\u001b[39m(\u001b[38;5;28mself\u001b[39m, key):\n\u001b[0;32m--> 998\u001b[0m     \u001b[38;5;28;01mraise\u001b[39;00m \u001b[38;5;167;01mKeyError\u001b[39;00m(key)\n",
      "\u001b[0;31mKeyError\u001b[0m: 'weight'"
     ]
    }
   ],
   "source": [
    "print(ns['name']) # Eyong\n",
    "print(ns['age'])  # 30\n",
    "print(ns['gender']) # male\n",
    "print(ns['height']) # 2.7\n",
    "print(ns['weight']) # KeyError"
   ]
  },
  {
   "cell_type": "markdown",
   "metadata": {},
   "source": [
    "## Closure\n",
    "\n",
    "> Closure in Python is a function that remembers values of the enclosing scope even if they are not present in memory."
   ]
  },
  {
   "cell_type": "code",
   "execution_count": 7,
   "metadata": {},
   "outputs": [],
   "source": [
    "def multiply_by(by_number):\n",
    "    def multiply(number):\n",
    "        # number -> local to multiply\n",
    "        # by_number -> enclosing \n",
    "        return number * by_number\n",
    "    return multiply"
   ]
  },
  {
   "cell_type": "code",
   "execution_count": 5,
   "metadata": {},
   "outputs": [
    {
     "data": {
      "text/plain": [
       "40"
      ]
     },
     "execution_count": 5,
     "metadata": {},
     "output_type": "execute_result"
    }
   ],
   "source": [
    "mul_by_10 = multiply_by(10)\n",
    "mul_by_10(4)\n",
    "\n",
    "\n"
   ]
  },
  {
   "cell_type": "code",
   "execution_count": 6,
   "metadata": {},
   "outputs": [
    {
     "data": {
      "text/plain": [
       "6"
      ]
     },
     "execution_count": 6,
     "metadata": {},
     "output_type": "execute_result"
    }
   ],
   "source": [
    "mul_by_3 = multiply_by(3)\n",
    "mul_by_3(2)"
   ]
  },
  {
   "cell_type": "markdown",
   "metadata": {},
   "source": [
    "### Modules\n",
    "Technically, we have two types of modules\n",
    "- Custom modules\n",
    "- Built-in modules\n",
    "\n",
    "We can build our modules with \n",
    "- Python: for example `itertool`.\n",
    "- `C` or `C++`. For example, the `re` module"
   ]
  },
  {
   "cell_type": "markdown",
   "metadata": {},
   "source": [
    "## Import Statement\n",
    "- To import in Python, we use the `import` keyword.\n",
    "\n",
    "The import has the following syntax\n",
    "\n",
    "```bash\n",
    "[from] import [AS]\n",
    "```\n",
    "\n",
    "In Python, the `import` looks for modules in the `PYTHONPATH` environment variable.\n"
   ]
  },
  {
   "cell_type": "code",
   "execution_count": 8,
   "metadata": {},
   "outputs": [
    {
     "data": {
      "text/plain": [
       "['/Users/Apple/Documents/WORK/DCI/2024/p24_e024/live-code/python-basics/lesson-2024-11-14',\n",
       " '/Users/Apple/anaconda3/lib/python311.zip',\n",
       " '/Users/Apple/anaconda3/lib/python3.11',\n",
       " '/Users/Apple/anaconda3/lib/python3.11/lib-dynload',\n",
       " '',\n",
       " '/Users/Apple/anaconda3/lib/python3.11/site-packages',\n",
       " '/Users/Apple/anaconda3/lib/python3.11/site-packages/aeosa']"
      ]
     },
     "execution_count": 8,
     "metadata": {},
     "output_type": "execute_result"
    }
   ],
   "source": [
    "from sys import path\n",
    "\n",
    "sys"
   ]
  },
  {
   "cell_type": "markdown",
   "metadata": {},
   "source": [
    "### Conclusion\n",
    "- Locally\n",
    "- Built-in\n",
    "- Installed"
   ]
  },
  {
   "cell_type": "markdown",
   "metadata": {},
   "source": [
    "## Private Symbol table\n",
    "\n",
    "## Different ways to import\n",
    "Importing a module can be done either by using it's `absolute` or `relative` path.\n",
    "\n",
    "```python\n",
    "import <module>\n",
    "from <module> import <something>\n",
    "import <module> as <something-else>\n",
    "```\n",
    "\n",
    "### Absolute\n",
    "- It starts with `/`\n",
    "### Relative\n",
    "- with and without `.`\n",
    "\n",
    "```python\n",
    "import test\n",
    "from . import test\n",
    "from .test import <something>\n",
    "```\n",
    "\n",
    "## How to run your script with imported module\n",
    "\n",
    "### `python path/to/script.py`\n",
    "- Run from working directory\n",
    "    - with no imports: `OK`\n",
    "    - with explicit relative import(`.`): `ImportError`\n",
    "    - with implicit relative import: `OK`\n",
    "    - with absolute import: `ModuleNotFoundError`.\n",
    "\n",
    "### `python -m path.to.script`\n",
    "- Run from the working directory\n",
    "    - with no imports: `OK`\n",
    "    - with explicit relative import(`.`): `OK`\n",
    "    - with implicit relative import: `ModuleNotFoundError`\n",
    "    - with absolute import: `OK`.\n",
    "\n",
    "#### Recommendations\n",
    "- Run with `python -m path.to.script`\n",
    "- Use `absolute import`.\n",
    "\n",
    "\n"
   ]
  }
 ],
 "metadata": {
  "kernelspec": {
   "display_name": "base",
   "language": "python",
   "name": "python3"
  },
  "language_info": {
   "codemirror_mode": {
    "name": "ipython",
    "version": 3
   },
   "file_extension": ".py",
   "mimetype": "text/x-python",
   "name": "python",
   "nbconvert_exporter": "python",
   "pygments_lexer": "ipython3",
   "version": "3.11.5"
  }
 },
 "nbformat": 4,
 "nbformat_minor": 2
}
