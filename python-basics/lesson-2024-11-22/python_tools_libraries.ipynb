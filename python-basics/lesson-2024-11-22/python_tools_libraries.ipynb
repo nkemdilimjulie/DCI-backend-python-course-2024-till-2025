{
 "cells": [
  {
   "cell_type": "markdown",
   "metadata": {},
   "source": [
    "# Invoice Generator Web App\n",
    "Here, we will build a program that will auto-generate invoice from some inputs\n",
    "\n",
    "- The program will present a web interface where we can view the invoice\n",
    "- Input will be gotten from an excel sheet, and other files like CVS, and or JSON\n",
    "- Input will be processed to generate an invoice html page that can be viewed on the browser\n",
    "- The invoice html page will then be downloaded as pdf to be stored in the file system."
   ]
  },
  {
   "cell_type": "markdown",
   "metadata": {},
   "source": [
    "## Tech Stack\n",
    "- `Flask` for the web server.\n",
    "- `Jinja2`: For our Python templating engine.(To use python-like code in html)\n",
    "- `openpyxl`: To consume data from excel\n",
    "- `weasyprint`: To convert our invoice html page to pdf."
   ]
  },
  {
   "cell_type": "markdown",
   "metadata": {},
   "source": [
    "## Invoice Info\n",
    "- Company Info\n",
    "    - logo\n",
    "    - name\n",
    "    - address\n",
    "- Developer info\n",
    "    - name\n",
    "    - email\n",
    "    - position\n",
    "- Invoice header info\n",
    "    - invoice number\n",
    "    - duty period\n",
    "    - date\n",
    "    - PO number\n",
    "Invoice body info\n",
    "    - Action (teaching or mentoring)\n",
    "        - topic\n",
    "        - class\n",
    "        - salary per unit\n",
    "        - number of units\n",
    "        - total pay\n",
    "    - overall total pay(for the duty period)\n"
   ]
  },
  {
   "cell_type": "markdown",
   "metadata": {},
   "source": [
    "## Web page template\n",
    "![browser template](pics/browser_template.png)"
   ]
  },
  {
   "cell_type": "markdown",
   "metadata": {},
   "source": [
    "## Excel Template\n",
    "![excel template](pics/excel_template.png)"
   ]
  },
  {
   "cell_type": "markdown",
   "metadata": {},
   "source": [
    "### Project Structure\n",
    "\n",
    "```\n",
    ".\n",
    "├── __init__.py\n",
    "├── requirements.txt\n",
    "└── src\n",
    "    ├── app.py\n",
    "    ├── static\n",
    "    │   └── css\n",
    "    │       └── invoice.css\n",
    "    └── templates\n",
    "        └── invoice.html\n",
    "```"
   ]
  },
  {
   "cell_type": "markdown",
   "metadata": {},
   "source": [
    "## Improvements\n",
    "### Downlaod invoice as pdf\n",
    "Add a download button at the top right corner of the web page, allowing us to dowload the invoice as pdf\n",
    "\n",
    "### Configuration info\n",
    "Right now, the configuration info are hard-coded in the python file. Instead, consume these info from either a `cvs` or `json` file.\n",
    "\n",
    "### Filters to re-arrange invoice topics\n",
    "Right now, the topics are not well arranged.\n",
    "\n",
    "Do a self-study on `Flask filters` to achieve the following;\n",
    "\n",
    "![good arrangement](pics/nested.png)\n"
   ]
  },
  {
   "cell_type": "markdown",
   "metadata": {},
   "source": []
  }
 ],
 "metadata": {
  "kernelspec": {
   "display_name": "base",
   "language": "python",
   "name": "python3"
  },
  "language_info": {
   "codemirror_mode": {
    "name": "ipython",
    "version": 3
   },
   "file_extension": ".py",
   "mimetype": "text/x-python",
   "name": "python",
   "nbconvert_exporter": "python",
   "pygments_lexer": "ipython3",
   "version": "3.11.5"
  }
 },
 "nbformat": 4,
 "nbformat_minor": 2
}
