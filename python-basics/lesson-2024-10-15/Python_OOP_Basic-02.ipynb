{
 "cells": [
  {
   "cell_type": "markdown",
   "id": "e82df710",
   "metadata": {},
   "source": [
    "# Python Basic OOP 02\n",
    "\n",
    "- Inheritance\n",
    "- Method overriding\n",
    "- Visibility (Access Modifiers)"
   ]
  },
  {
   "cell_type": "markdown",
   "id": "16de6a9e",
   "metadata": {},
   "source": [
    "## Inheritance\n",
    "- Inheritance is an important concept of OOP\n",
    "\n",
    "> Inheritance creats an `IS A/AN` relationship between two or more classes.\n",
    "\n",
    "- A Student `is a` person\n",
    "- A Car `is a` vehicle\n",
    "- A Dog `is an` animal\n",
    "- An apple `is a` fruit"
   ]
  },
  {
   "cell_type": "markdown",
   "id": "0ca002f9",
   "metadata": {},
   "source": [
    "`Dog`, `Cat`, `Lion` are all Animal because they all have some common properties\n",
    "\n",
    "Some of the common properties are\n",
    "- Reproduction\n",
    "- Respiration\n",
    "- Excretion\n",
    "- Growth\n",
    "- Movement"
   ]
  },
  {
   "cell_type": "markdown",
   "id": "6ad958d5",
   "metadata": {},
   "source": [
    "### Naming convention for inheritance\n",
    "- `Superclass` vs `subclass`\n",
    "- `Parent class` vs `Child class`\n",
    "- `Base class` vs `Derived class`"
   ]
  },
  {
   "cell_type": "markdown",
   "id": "87047082",
   "metadata": {},
   "source": [
    "#### Base Class\n",
    "\n",
    "> It is a class that is inherited from; it serves as a starting point for the derived classes.\n",
    "\n",
    "#### Derived Class\n",
    "\n",
    "> It is a class that is doing the inheriting; It enhances and expand the base class"
   ]
  },
  {
   "cell_type": "markdown",
   "id": "507ac92f",
   "metadata": {},
   "source": [
    "![base and derived class](base_derive.png)"
   ]
  },
  {
   "cell_type": "markdown",
   "id": "bce0bb1e",
   "metadata": {},
   "source": [
    "### Note\n",
    "- The derived class want to `redefine` or `override methods` of the base class\n",
    "- The derived class want to `add more methods` to the base class"
   ]
  },
  {
   "cell_type": "markdown",
   "id": "6e344ae6",
   "metadata": {},
   "source": [
    "## Example\n",
    "- Analysis, Design, Implementation\n",
    "\n",
    "### Object Oriented Analysis\n",
    "\n",
    "**Idea**: Build a switch application\n",
    "\n",
    "**Requirement\n",
    "- Employee\n",
    "    - Manager\n",
    "    - Software Engineer\n",
    "    \n",
    "### Object Orient Design\n",
    "\n",
    "- Employee\n",
    "    - **Attributes**\n",
    "        - salary\n",
    "        - first_name\n",
    "        - last_name\n",
    "        - hired_date\n",
    "        - rate_per_hour\n",
    "    - **Behaviors**\n",
    "        - get_names()\n",
    "        - get_pay_per_year() # anual pay based on the hourly rate\n",
    "        \n",
    "- Manager\n",
    "    - **Attributes**\n",
    "        - reports\n",
    "        - travel_perk\n",
    "    - **Behaviors**\n",
    "        - get_reports()\n",
    "        - request_report()\n",
    "        - travel()\n",
    "        \n",
    "- Software Engineer\n",
    "    - **Attributes**\n",
    "        - seniority_level\n",
    "        - work_status\n",
    "    - **Behaviors**\n",
    "        - push_code()\n",
    "        - write_code()\n",
    "        - review_code()"
   ]
  },
  {
   "cell_type": "markdown",
   "id": "c5ff5332",
   "metadata": {},
   "source": [
    "## Implemenation"
   ]
  },
  {
   "cell_type": "code",
   "execution_count": 35,
   "id": "4caffa72",
   "metadata": {},
   "outputs": [],
   "source": [
    "from datetime import date\n",
    "\n",
    "class Employee: # class Employee(object)\n",
    "    \n",
    "    def __init__(self, first_name: str, last_name: str, hired_date: date, rate_per_hour: float):\n",
    "        self.first_name = first_name\n",
    "        self.last_name = last_name\n",
    "        self.hired_date = hired_date\n",
    "        self.rate_per_hour = rate_per_hour\n",
    "        \n",
    "    def get_names(self):\n",
    "        return f'{self.first_name} {self.last_name}'\n",
    "    \n",
    "    def get_pay_per_year(self):\n",
    "        # 52 weeks * 5 days * 8 hours a day\n",
    "        pay = 52 * 5 * 8 * self.rate_per_hour\n",
    "        return pay"
   ]
  },
  {
   "cell_type": "code",
   "execution_count": 39,
   "id": "52015526",
   "metadata": {},
   "outputs": [],
   "source": [
    "class Manager(Employee): # Single\n",
    "    def __init__(self, first_name, last_name, hired_date, rate_per_hour, travel_perk= True):\n",
    "        # Initialize the child class\n",
    "        self.travel_perk = travel_perk\n",
    "        self.reports = []\n",
    "        \n",
    "        # Initialize the parent class\n",
    "        super().__init__(first_name, last_name, hired_date, rate_per_hour)\n",
    "        \n",
    "    def get_report(self):\n",
    "        return self.reports\n",
    "    \n",
    "    def request_report(self, report):\n",
    "        self.reports.append(report)\n",
    "        \n",
    "    def travel(self):\n",
    "        if self.travel_perk:\n",
    "            print('Travel request granted')\n",
    "        else:\n",
    "            print('Not enough travel perk to travel')\n",
    "            \n",
    "    def get_pay_per_year(self, bonus=True):\n",
    "        # Method Overriding\n",
    "        \n",
    "        pay = super().get_pay_per_year() # call parent's method\n",
    "        if bonus:\n",
    "            # 10% of his pay\n",
    "            return pay + (.1 * pay)\n",
    "        return pay\n",
    "    \n",
    "class SoftwareEngineer(Employee): # Single\n",
    "    # TODO: Replace 'pass' with your code\n",
    "    pass"
   ]
  },
  {
   "cell_type": "code",
   "execution_count": 31,
   "id": "e185cee5",
   "metadata": {},
   "outputs": [],
   "source": [
    "kevin = Test(4,5)\n",
    "eyong = Test(0, 0)"
   ]
  },
  {
   "cell_type": "code",
   "execution_count": 32,
   "id": "a68c982f",
   "metadata": {},
   "outputs": [
    {
     "data": {
      "text/plain": [
       "4"
      ]
     },
     "execution_count": 32,
     "metadata": {},
     "output_type": "execute_result"
    }
   ],
   "source": [
    "kevin.get_x(eyong) # get_x(t1) # t1.co_x"
   ]
  },
  {
   "cell_type": "code",
   "execution_count": 33,
   "id": "537cefac",
   "metadata": {},
   "outputs": [
    {
     "data": {
      "text/plain": [
       "0"
      ]
     },
     "execution_count": 33,
     "metadata": {},
     "output_type": "execute_result"
    }
   ],
   "source": [
    "t2.get_x() # get_x(t2) # t2.co_x"
   ]
  },
  {
   "cell_type": "markdown",
   "id": "96daea10",
   "metadata": {},
   "source": [
    "## Type of Inheritance\n",
    "\n",
    "- Single Inheritance\n",
    "- Multiple Inheritance\n",
    "- Multilevel Inheritance\n",
    "- Hybrid Inheritance\n",
    "- Hierarchical inheritance"
   ]
  },
  {
   "cell_type": "markdown",
   "id": "5275e8e0",
   "metadata": {},
   "source": [
    "### Single Inheritance\n",
    "- Hermaphrodite: `Snail`"
   ]
  },
  {
   "cell_type": "markdown",
   "id": "d432af9d",
   "metadata": {},
   "source": [
    "<img src='single_inh.png' width='350px' />"
   ]
  },
  {
   "cell_type": "markdown",
   "id": "34a5752a",
   "metadata": {},
   "source": [
    "### Multiple Inheritance\n",
    "\n",
    "Son(Mother, Father)"
   ]
  },
  {
   "cell_type": "markdown",
   "id": "be2c2ccf",
   "metadata": {},
   "source": [
    "<img src='multiple_inh.png' width='350px' />"
   ]
  },
  {
   "cell_type": "markdown",
   "id": "dee34850",
   "metadata": {},
   "source": [
    "### Miltilevel Inheritance\n",
    "\n",
    "`Son( Father(Grandfather))`"
   ]
  },
  {
   "cell_type": "markdown",
   "id": "04e437fb",
   "metadata": {},
   "source": [
    "<img src='multilevel_inh.png' width='350px' />"
   ]
  },
  {
   "cell_type": "markdown",
   "id": "b7f927b9",
   "metadata": {},
   "source": [
    "#### Hierarchical inheritance\n",
    "\n",
    "`Son(Father), Daughter(Father)`"
   ]
  },
  {
   "cell_type": "markdown",
   "id": "a5983d18",
   "metadata": {},
   "source": [
    "<img src='hierarchical_inh.png' width='350px' />"
   ]
  },
  {
   "cell_type": "markdown",
   "id": "82b7460e",
   "metadata": {},
   "source": [
    "#### Hybrid Inheritance\n",
    "\n",
    "Son(Father), grandson(Son(Father))\n",
    "\n",
    "Son(Father(grandfather), Mother(grandmother))\n",
    "\n",
    "- Organizational hierachy structure"
   ]
  },
  {
   "cell_type": "markdown",
   "id": "976ba3fd",
   "metadata": {},
   "source": [
    "<img src='hybrid_inh.png' width='350px' />"
   ]
  },
  {
   "cell_type": "markdown",
   "id": "baaa9b25",
   "metadata": {},
   "source": [
    "## MRO -> Method Resolution Order\n",
    "\n",
    "> MRO is the order in which a method is searched for in an inheritance\n",
    "\n",
    "How do you check it: `ClassName.__mro__`"
   ]
  },
  {
   "cell_type": "code",
   "execution_count": 50,
   "id": "53d0c54e",
   "metadata": {},
   "outputs": [],
   "source": [
    "class A:\n",
    "    def p(self):\n",
    "        print('From A')\n",
    "        \n",
    "class B(A):\n",
    "    def pp(self):\n",
    "        print('From B')\n",
    "\n",
    "class D:\n",
    "    def p(self):\n",
    "        print('From D')\n",
    "        \n",
    "class C(B, D):\n",
    "    def p(self):\n",
    "        print('From C')\n",
    "        super().p() # call B"
   ]
  },
  {
   "cell_type": "code",
   "execution_count": 48,
   "id": "4a21e6b4",
   "metadata": {},
   "outputs": [
    {
     "data": {
      "text/plain": [
       "(__main__.C, __main__.B, __main__.A, __main__.D, object)"
      ]
     },
     "execution_count": 48,
     "metadata": {},
     "output_type": "execute_result"
    }
   ],
   "source": [
    "\n"
   ]
  },
  {
   "cell_type": "code",
   "execution_count": 49,
   "id": "fd33016d",
   "metadata": {},
   "outputs": [
    {
     "name": "stdout",
     "output_type": "stream",
     "text": [
      "From C\n",
      "From B\n"
     ]
    }
   ],
   "source": [
    "c = C()\n",
    "\n",
    "c.p()\n",
    "\n",
    "# From C\n",
    "# From A\n",
    "\n",
    "# From C x2\n",
    "\n",
    "# From C\n",
    "# From D\n",
    "\n",
    "# From C\n",
    "# From A"
   ]
  },
  {
   "cell_type": "code",
   "execution_count": 51,
   "id": "526386ec",
   "metadata": {},
   "outputs": [
    {
     "name": "stdout",
     "output_type": "stream",
     "text": [
      "From C\n",
      "From A\n"
     ]
    }
   ],
   "source": [
    "c = C()\n",
    "c.p()"
   ]
  },
  {
   "cell_type": "markdown",
   "id": "26f57130",
   "metadata": {},
   "source": [
    "## Self-study\n",
    "\n",
    "Visibility (Access Modifier)\n",
    "- Public\n",
    "- Protected\n",
    "- Private\n",
    "\n",
    "## Exercise\n",
    "Modify the `Fruit processing program` and apply the concept of inheritance and access modifier"
   ]
  },
  {
   "cell_type": "code",
   "execution_count": null,
   "id": "84dc4871",
   "metadata": {},
   "outputs": [],
   "source": []
  }
 ],
 "metadata": {
  "kernelspec": {
   "display_name": "Python 3 (ipykernel)",
   "language": "python",
   "name": "python3"
  },
  "language_info": {
   "codemirror_mode": {
    "name": "ipython",
    "version": 3
   },
   "file_extension": ".py",
   "mimetype": "text/x-python",
   "name": "python",
   "nbconvert_exporter": "python",
   "pygments_lexer": "ipython3",
   "version": "3.11.5"
  }
 },
 "nbformat": 4,
 "nbformat_minor": 5
}
