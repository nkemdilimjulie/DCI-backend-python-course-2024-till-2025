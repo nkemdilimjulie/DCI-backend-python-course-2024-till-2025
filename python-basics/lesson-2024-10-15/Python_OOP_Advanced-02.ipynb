{
 "cells": [
  {
   "cell_type": "markdown",
   "id": "9225dd7e",
   "metadata": {},
   "source": [
    "# Python OOP Advanced 02\n",
    "- Polymorphism\n",
    "- Operator Overloading\n",
    "- Dice Game"
   ]
  },
  {
   "cell_type": "markdown",
   "id": "4ee829cc",
   "metadata": {},
   "source": [
    "### Abstract Based Class\n",
    "\n",
    "### Polymorphism\n",
    "In Greek\n",
    "\n",
    "- `Poly` -> `Many`\n",
    "- `morphism` -> `form`, `shape`, `structure`.\n",
    "\n",
    "> Many Forms\n",
    "\n",
    ">> In Python, Polymorphism means the same `function name` can be used with different data types. "
   ]
  },
  {
   "cell_type": "code",
   "execution_count": 2,
   "id": "19e54329",
   "metadata": {},
   "outputs": [
    {
     "name": "stdout",
     "output_type": "stream",
     "text": [
      "hello\n",
      "455\n",
      "[]\n"
     ]
    }
   ],
   "source": [
    "print('hello')\n",
    "print(455)\n",
    "print([])"
   ]
  },
  {
   "cell_type": "code",
   "execution_count": 3,
   "id": "ae859ce6",
   "metadata": {},
   "outputs": [
    {
     "data": {
      "text/plain": [
       "5"
      ]
     },
     "execution_count": 3,
     "metadata": {},
     "output_type": "execute_result"
    }
   ],
   "source": [
    "len('hello')"
   ]
  },
  {
   "cell_type": "code",
   "execution_count": 4,
   "id": "43f13dcb",
   "metadata": {},
   "outputs": [
    {
     "data": {
      "text/plain": [
       "3"
      ]
     },
     "execution_count": 4,
     "metadata": {},
     "output_type": "execute_result"
    }
   ],
   "source": [
    "len([4,5,6])"
   ]
  },
  {
   "cell_type": "markdown",
   "id": "dc03a71c",
   "metadata": {},
   "source": [
    "## Application Of Polymorphism in real-world situations\n",
    "- Accelerator Pedal\n",
    "- `Accelerate`\n",
    "\n",
    "- Internal combusion engine\n",
    "- Electric motor\n",
    "- Hybrid\n",
    "\n",
    "- Nuclear powered engine car\n",
    "    - Principle of least Astonishment"
   ]
  },
  {
   "cell_type": "markdown",
   "id": "536954dc",
   "metadata": {},
   "source": [
    "### Ways to achieve Polymorphism in Python\n",
    "- Functions/methods and objects\n",
    "- Inheritance\n",
    "- Overloading"
   ]
  },
  {
   "cell_type": "markdown",
   "id": "70ddff2c",
   "metadata": {},
   "source": [
    "### Functions/methods and objects\n",
    "- Multiple classes have methods with the same name"
   ]
  },
  {
   "cell_type": "code",
   "execution_count": 6,
   "id": "e9944705",
   "metadata": {},
   "outputs": [],
   "source": [
    "# Classes\n",
    "class ListOfBook:\n",
    "    def __init__(self, *args: str) -> None: # Packing and Unpacking Positional Argument\n",
    "        self._data: tuple[str] = args\n",
    "            \n",
    "    def ls_all(self) -> list[str]:\n",
    "        return list(self._data)\n",
    "    \n",
    "\n",
    "class ListOfStudent:\n",
    "    def __init__(self, *args: str) -> None:\n",
    "        self._data: tuple[str] = args\n",
    "            \n",
    "    def ls_all(self) -> tuple[str]:\n",
    "        return self._data\n",
    "    \n",
    "    \n",
    "class ListOfMusic:\n",
    "    def __init__(self, *args: str) -> None:\n",
    "        self._date: tuple[str] = args"
   ]
  },
  {
   "cell_type": "code",
   "execution_count": 7,
   "id": "05c96bf2",
   "metadata": {},
   "outputs": [],
   "source": [
    "# All objects\n",
    "lob = ListOfBook('book1', 'book2', 'book3')\n",
    "los = ListOfStudent('student1', 'student2', 'student3')\n",
    "lom = ListOfMusic('song1', 'song2', 'song3')"
   ]
  },
  {
   "cell_type": "code",
   "execution_count": 15,
   "id": "fcf84ed1",
   "metadata": {},
   "outputs": [],
   "source": [
    "# Function\n",
    "def get_list(obj): \n",
    "    if hasattr(obj, 'ls_all'):\n",
    "        return obj.ls_all()\n",
    "    else:\n",
    "        raise TypeError('object without \"ls_all\" method is not supported')"
   ]
  },
  {
   "cell_type": "code",
   "execution_count": 16,
   "id": "b30a38a8",
   "metadata": {},
   "outputs": [
    {
     "name": "stdout",
     "output_type": "stream",
     "text": [
      "['book1', 'book2', 'book3']\n",
      "('student1', 'student2', 'student3')\n"
     ]
    },
    {
     "ename": "TypeError",
     "evalue": "object without \"ls_all\" method is not supported",
     "output_type": "error",
     "traceback": [
      "\u001b[0;31m---------------------------------------------------------------------------\u001b[0m",
      "\u001b[0;31mTypeError\u001b[0m                                 Traceback (most recent call last)",
      "Cell \u001b[0;32mIn[16], line 2\u001b[0m\n\u001b[1;32m      1\u001b[0m \u001b[38;5;28;01mfor\u001b[39;00m obj \u001b[38;5;129;01min\u001b[39;00m [lob, los, lom]:\n\u001b[0;32m----> 2\u001b[0m     \u001b[38;5;28mprint\u001b[39m(get_list(obj))\n",
      "Cell \u001b[0;32mIn[15], line 6\u001b[0m, in \u001b[0;36mget_list\u001b[0;34m(obj)\u001b[0m\n\u001b[1;32m      4\u001b[0m     \u001b[38;5;28;01mreturn\u001b[39;00m obj\u001b[38;5;241m.\u001b[39mls_all()\n\u001b[1;32m      5\u001b[0m \u001b[38;5;28;01melse\u001b[39;00m:\n\u001b[0;32m----> 6\u001b[0m     \u001b[38;5;28;01mraise\u001b[39;00m \u001b[38;5;167;01mTypeError\u001b[39;00m(\u001b[38;5;124m'\u001b[39m\u001b[38;5;124mobject without \u001b[39m\u001b[38;5;124m\"\u001b[39m\u001b[38;5;124mls_all\u001b[39m\u001b[38;5;124m\"\u001b[39m\u001b[38;5;124m method is not supported\u001b[39m\u001b[38;5;124m'\u001b[39m)\n",
      "\u001b[0;31mTypeError\u001b[0m: object without \"ls_all\" method is not supported"
     ]
    }
   ],
   "source": [
    "for obj in [lob, los, lom]:\n",
    "    print(get_list(obj))"
   ]
  },
  {
   "cell_type": "markdown",
   "id": "fc0db8cf",
   "metadata": {},
   "source": [
    "### Polymorphism with Inheritance"
   ]
  },
  {
   "cell_type": "code",
   "execution_count": 18,
   "id": "d6c304cb",
   "metadata": {},
   "outputs": [],
   "source": [
    "class ListOfItemBase:\n",
    "    def __init__(self, *args: str) -> None: # Packing and Unpacking Positional Argument\n",
    "        self._data: tuple[str] = args\n",
    "            \n",
    "    def ls_all(self) -> list[str]:\n",
    "        return list(self._data)"
   ]
  },
  {
   "cell_type": "code",
   "execution_count": 19,
   "id": "b0047473",
   "metadata": {},
   "outputs": [],
   "source": [
    "# Classes\n",
    "class ListOfBook(ListOfItemBase):\n",
    "    pass\n",
    "        \n",
    "    \n",
    "class ListOfStudent(ListOfItemBase):\n",
    "    pass\n",
    "    \n",
    "    \n",
    "class ListOfMusic(ListOfItemBase):\n",
    "    def ls_all(self):\n",
    "        return NotImplemented # Indicates that the method has not been implemented"
   ]
  },
  {
   "cell_type": "code",
   "execution_count": 21,
   "id": "c1901b9d",
   "metadata": {},
   "outputs": [],
   "source": [
    "#All objects\n",
    "lob = ListOfBook('book1', 'book2', 'book3')\n",
    "los = ListOfStudent('student1', 'student2', 'student3')\n",
    "lom = ListOfMusic('song1', 'song2', 'song3')"
   ]
  },
  {
   "cell_type": "code",
   "execution_count": 22,
   "id": "5cc56330",
   "metadata": {},
   "outputs": [
    {
     "name": "stdout",
     "output_type": "stream",
     "text": [
      "['book1', 'book2', 'book3']\n",
      "['student1', 'student2', 'student3']\n",
      "NotImplemented\n"
     ]
    }
   ],
   "source": [
    "for obj in [lob, los, lom]:\n",
    "    print(get_list(obj))"
   ]
  },
  {
   "cell_type": "markdown",
   "id": "7f29b59c",
   "metadata": {},
   "source": [
    "## Operator Overloading\n",
    "\n",
    "> It is when an operator can behave different base on the operands\n",
    "\n",
    "```python\n",
    "operand operator operand\n",
    "2 + 5\n",
    "```"
   ]
  },
  {
   "cell_type": "code",
   "execution_count": 23,
   "id": "b30086cf",
   "metadata": {},
   "outputs": [
    {
     "data": {
      "text/plain": [
       "'hello  world'"
      ]
     },
     "execution_count": 23,
     "metadata": {},
     "output_type": "execute_result"
    }
   ],
   "source": [
    "2 + 5 # Addition\n",
    "'hello ' + ' world' # Concatenate"
   ]
  },
  {
   "cell_type": "markdown",
   "id": "70273122",
   "metadata": {},
   "source": [
    "For example: `+`, `-`, `/`, `*`, `//`\n",
    "\n",
    "Python uses `Magic methods`(`Special methods`, `dunder methods`) to implement Operators.\n",
    "\n",
    "**Syntax**: \n",
    "\n",
    "```python\n",
    "__<name>__()\n",
    "```"
   ]
  },
  {
   "cell_type": "code",
   "execution_count": 26,
   "id": "e0b487a2",
   "metadata": {},
   "outputs": [
    {
     "data": {
      "text/plain": [
       "10"
      ]
     },
     "execution_count": 26,
     "metadata": {},
     "output_type": "execute_result"
    }
   ],
   "source": [
    "x = 4\n",
    "y = 6\n",
    "\n",
    "x + y # x.__add__(y)"
   ]
  },
  {
   "cell_type": "code",
   "execution_count": 25,
   "id": "d054eb4d",
   "metadata": {},
   "outputs": [
    {
     "data": {
      "text/plain": [
       "0"
      ]
     },
     "execution_count": 25,
     "metadata": {},
     "output_type": "execute_result"
    }
   ],
   "source": [
    "4 // 5"
   ]
  },
  {
   "cell_type": "markdown",
   "id": "d6cb5df8",
   "metadata": {},
   "source": [
    "### Example\n",
    "\n",
    "#### + Operator\n",
    "\n",
    "- The dunder method that handles the `+` operator comes in three types: \n",
    "    - `__add__`\n",
    "    - `__radd__`\n",
    "    - `__iadd__`"
   ]
  },
  {
   "cell_type": "code",
   "execution_count": 27,
   "id": "2092d6aa",
   "metadata": {},
   "outputs": [],
   "source": [
    "x = 4\n",
    "y = 6"
   ]
  },
  {
   "cell_type": "code",
   "execution_count": 28,
   "id": "593274e1",
   "metadata": {},
   "outputs": [
    {
     "data": {
      "text/plain": [
       "10"
      ]
     },
     "execution_count": 28,
     "metadata": {},
     "output_type": "execute_result"
    }
   ],
   "source": [
    "x + y # x.__add__(y)"
   ]
  },
  {
   "cell_type": "code",
   "execution_count": 29,
   "id": "ae50afb1",
   "metadata": {},
   "outputs": [
    {
     "data": {
      "text/plain": [
       "14"
      ]
     },
     "execution_count": 29,
     "metadata": {},
     "output_type": "execute_result"
    }
   ],
   "source": [
    "x + 10  # x.__add__(10)"
   ]
  },
  {
   "cell_type": "code",
   "execution_count": 30,
   "id": "0fa6545f",
   "metadata": {},
   "outputs": [
    {
     "data": {
      "text/plain": [
       "14"
      ]
     },
     "execution_count": 30,
     "metadata": {},
     "output_type": "execute_result"
    }
   ],
   "source": [
    "10 + x #  # x.__radd__(10)"
   ]
  },
  {
   "cell_type": "code",
   "execution_count": 31,
   "id": "de4f738d",
   "metadata": {},
   "outputs": [],
   "source": [
    "x += 10 # x.__iadd__(10)"
   ]
  },
  {
   "cell_type": "code",
   "execution_count": 32,
   "id": "4cc2a886",
   "metadata": {},
   "outputs": [],
   "source": [
    "class A:\n",
    "    def __init__(self, item: int):\n",
    "        self._item = item"
   ]
  },
  {
   "cell_type": "code",
   "execution_count": 34,
   "id": "a2758e0d",
   "metadata": {},
   "outputs": [],
   "source": [
    "a1 = A(4)\n",
    "a2 = A(5)"
   ]
  },
  {
   "cell_type": "code",
   "execution_count": 35,
   "id": "dc25d09e",
   "metadata": {},
   "outputs": [
    {
     "ename": "TypeError",
     "evalue": "unsupported operand type(s) for +: 'A' and 'A'",
     "output_type": "error",
     "traceback": [
      "\u001b[0;31m---------------------------------------------------------------------------\u001b[0m",
      "\u001b[0;31mTypeError\u001b[0m                                 Traceback (most recent call last)",
      "Cell \u001b[0;32mIn[35], line 1\u001b[0m\n\u001b[0;32m----> 1\u001b[0m a1 \u001b[38;5;241m+\u001b[39m a2\n",
      "\u001b[0;31mTypeError\u001b[0m: unsupported operand type(s) for +: 'A' and 'A'"
     ]
    }
   ],
   "source": [
    "a1 + a2"
   ]
  },
  {
   "cell_type": "code",
   "execution_count": 73,
   "id": "b3825f50",
   "metadata": {},
   "outputs": [],
   "source": [
    "class A:\n",
    "    def __init__(self, item: int):\n",
    "        self._item = item\n",
    "        \n",
    "    def __add__(self, x):\n",
    "        if isinstance(x, int):\n",
    "            return self._item + x\n",
    "        else:\n",
    "            return self._item + x._item\n",
    "        \n",
    "    def __repr__(self):\n",
    "        return f'{self._item}'"
   ]
  },
  {
   "cell_type": "code",
   "execution_count": 74,
   "id": "4e4dad5f",
   "metadata": {},
   "outputs": [],
   "source": [
    "a1 = A(4)\n",
    "a2 = A(5)"
   ]
  },
  {
   "cell_type": "code",
   "execution_count": 75,
   "id": "ca858f6f",
   "metadata": {},
   "outputs": [
    {
     "data": {
      "text/plain": [
       "9"
      ]
     },
     "execution_count": 75,
     "metadata": {},
     "output_type": "execute_result"
    }
   ],
   "source": [
    "a1 + a2 # a1.__add__(a2)"
   ]
  },
  {
   "cell_type": "code",
   "execution_count": 76,
   "id": "87860552",
   "metadata": {},
   "outputs": [
    {
     "data": {
      "text/plain": [
       "6"
      ]
     },
     "execution_count": 76,
     "metadata": {},
     "output_type": "execute_result"
    }
   ],
   "source": [
    "4 + 2"
   ]
  },
  {
   "cell_type": "code",
   "execution_count": 77,
   "id": "a4dbbccb",
   "metadata": {},
   "outputs": [
    {
     "data": {
      "text/plain": [
       "11"
      ]
     },
     "execution_count": 77,
     "metadata": {},
     "output_type": "execute_result"
    }
   ],
   "source": [
    "a1 + 7 # a1.__add__(7)"
   ]
  },
  {
   "cell_type": "code",
   "execution_count": 78,
   "id": "dd67f824",
   "metadata": {},
   "outputs": [
    {
     "data": {
      "text/plain": [
       "4"
      ]
     },
     "execution_count": 78,
     "metadata": {},
     "output_type": "execute_result"
    }
   ],
   "source": [
    "a1"
   ]
  },
  {
   "cell_type": "code",
   "execution_count": 79,
   "id": "49d7cb11",
   "metadata": {},
   "outputs": [],
   "source": [
    "a1 += 5 # a1.__iadd__(5) but can fall back to __add__"
   ]
  },
  {
   "cell_type": "code",
   "execution_count": 80,
   "id": "73a79d66",
   "metadata": {},
   "outputs": [
    {
     "data": {
      "text/plain": [
       "9"
      ]
     },
     "execution_count": 80,
     "metadata": {},
     "output_type": "execute_result"
    }
   ],
   "source": [
    "a1"
   ]
  },
  {
   "cell_type": "code",
   "execution_count": 54,
   "id": "743f10dd",
   "metadata": {},
   "outputs": [
    {
     "data": {
      "text/plain": [
       "5"
      ]
     },
     "execution_count": 54,
     "metadata": {},
     "output_type": "execute_result"
    }
   ],
   "source": [
    "a2"
   ]
  },
  {
   "cell_type": "markdown",
   "id": "cd1ac4b8",
   "metadata": {},
   "source": [
    "## Exercise\n",
    "Given the code below"
   ]
  },
  {
   "cell_type": "code",
   "execution_count": 84,
   "id": "23f83363",
   "metadata": {},
   "outputs": [],
   "source": [
    "class A:\n",
    "    def __init__(self, item: int):\n",
    "        self._item = item\n",
    "        \n",
    "    def __add__(self, x):\n",
    "        if isinstance(x, int):\n",
    "            return self._item + x\n",
    "        else:\n",
    "            return self._item + x._item\n",
    "        \n",
    "    def __repr__(self):\n",
    "        return f'{self._item}'\n",
    "    \n",
    "a1 = A(12)\n",
    "a2 = A(6)"
   ]
  },
  {
   "cell_type": "markdown",
   "id": "db8b702a",
   "metadata": {},
   "source": [
    "Investigate the different dunder methods to achieve the following"
   ]
  },
  {
   "cell_type": "code",
   "execution_count": null,
   "id": "f7f44d4d",
   "metadata": {},
   "outputs": [],
   "source": [
    "# Minus\n",
    "a1 - a2 # 6\n",
    "a1 -= 3 # a1 = 3\n",
    "4 - a1 # 1z"
   ]
  },
  {
   "cell_type": "code",
   "execution_count": null,
   "id": "76877abf",
   "metadata": {},
   "outputs": [],
   "source": [
    "# Multiplication\n",
    "a1 * a2 # 18\n",
    "a1 * 3 # 9\n",
    "3 * a1 # 9\n",
    "a1 *= 5 # a1 = 15"
   ]
  },
  {
   "cell_type": "code",
   "execution_count": null,
   "id": "98934e94",
   "metadata": {},
   "outputs": [],
   "source": [
    "# Division\n",
    "a1 / a2 # 2.5\n",
    "a1 / 4 # 3.75\n",
    "a1 /= a2 # a1 = 2.5"
   ]
  },
  {
   "cell_type": "code",
   "execution_count": 83,
   "id": "61bc0f34",
   "metadata": {},
   "outputs": [
    {
     "data": {
      "text/plain": [
       "3.75"
      ]
     },
     "execution_count": 83,
     "metadata": {},
     "output_type": "execute_result"
    }
   ],
   "source": [
    "# Comparison\n",
    "\n",
    "a1 == a2 # False\n",
    "a1 > a2 # False\n",
    "a1 < 5 # True\n",
    "a1 != a2 # True"
   ]
  },
  {
   "cell_type": "markdown",
   "id": "c77c28dd",
   "metadata": {},
   "source": [
    "## Dice Game\n",
    "\n",
    "![Dice Game](dice_game.jpg)"
   ]
  },
  {
   "cell_type": "markdown",
   "id": "fce47aaf",
   "metadata": {},
   "source": [
    "- Classes and Objects\n",
    "- Instance and class attributes\n",
    "- Methods (Instance, Class, Static)\n",
    "- Encapsulation and Abstraction\n",
    "- Inheritance\n",
    "- Polymorphism\n",
    "- Abstract base classes\n",
    "- Operator overloading"
   ]
  },
  {
   "cell_type": "markdown",
   "id": "fc38a3b4",
   "metadata": {},
   "source": [
    "# Dice \n",
    "\n",
    "**Idea** We need as many Dice as we decide.\n",
    "\n",
    "**Reasoning**: Every die will have similar properties. The only difference will be the number of dots on the faces of each die.\n",
    "\n",
    "To handle such situation, we will go in for `Inheritance`\n",
    "\n",
    "- Our Parent class will have the common properties of all Dice\n",
    "    - `face` -> The side of the die that is displayed to us.\n",
    "    - `roll()` -> Will roll the die"
   ]
  },
  {
   "cell_type": "code",
   "execution_count": 92,
   "id": "64f3ba1e",
   "metadata": {},
   "outputs": [],
   "source": [
    "class Die:\n",
    "    def __init__(self) -> None:\n",
    "        self.face: int # Here we are just declaring that the face will be an integer\n",
    "        self.roll()\n",
    "        \n",
    "    def roll(self) -> None:\n",
    "        ..."
   ]
  },
  {
   "cell_type": "code",
   "execution_count": 140,
   "id": "2cf97801",
   "metadata": {},
   "outputs": [],
   "source": [
    "from random import randint\n",
    "\n",
    "class D4(Die):\n",
    "    def roll(self):\n",
    "        self.face = randint(1, 4)\n",
    "        \n",
    "    \n",
    "class D6(Die):\n",
    "    def roll(self):\n",
    "        self.face = randint(1, 6)\n",
    "    \n",
    "class D8(Die):\n",
    "    def roll(self):\n",
    "        self.face = randint(1, 8)\n",
    "        \n",
    "class D10(Die):\n",
    "    def roll(self):\n",
    "        self.face = randint(1, 10)"
   ]
  },
  {
   "cell_type": "code",
   "execution_count": 141,
   "id": "3e3f6a37",
   "metadata": {},
   "outputs": [
    {
     "data": {
      "text/plain": [
       "5"
      ]
     },
     "execution_count": 141,
     "metadata": {},
     "output_type": "execute_result"
    }
   ],
   "source": [
    "d8 = D8()\n",
    "d8.face"
   ]
  },
  {
   "cell_type": "code",
   "execution_count": 142,
   "id": "db642d8a",
   "metadata": {},
   "outputs": [
    {
     "data": {
      "text/plain": [
       "8"
      ]
     },
     "execution_count": 142,
     "metadata": {},
     "output_type": "execute_result"
    }
   ],
   "source": [
    "d8.roll()\n",
    "d8.face"
   ]
  },
  {
   "cell_type": "code",
   "execution_count": 143,
   "id": "d0686d54",
   "metadata": {},
   "outputs": [],
   "source": [
    "d4 = D4()\n",
    "d6 = D6()\n",
    "d8 = D8()\n",
    "d10 = D10()"
   ]
  },
  {
   "cell_type": "code",
   "execution_count": 144,
   "id": "9ae2d080",
   "metadata": {},
   "outputs": [
    {
     "name": "stdout",
     "output_type": "stream",
     "text": [
      "<__main__.D4 object at 0x11374ec50>\n"
     ]
    }
   ],
   "source": [
    "print(d4) # face\n",
    "d4.face"
   ]
  },
  {
   "cell_type": "markdown",
   "id": "798ae525",
   "metadata": {},
   "source": [
    "### Dunder Methods - String representation\n",
    "- Define the dunder method `__str__` such that when we do `print(d8)`, it will return the face of that die."
   ]
  },
  {
   "cell_type": "code",
   "execution_count": 165,
   "id": "9592ec54",
   "metadata": {},
   "outputs": [],
   "source": [
    "class Die:\n",
    "    def __init__(self) -> None:\n",
    "        self.face: int # Here we are just declaring that the face will be an integer\n",
    "        self.roll()\n",
    "        \n",
    "    def roll(self) -> None:\n",
    "        ...\n",
    "        \n",
    "    def __str__(self) -> str:\n",
    "        return f'{self.face}'"
   ]
  },
  {
   "cell_type": "code",
   "execution_count": 164,
   "id": "6faaf78d",
   "metadata": {},
   "outputs": [],
   "source": [
    "from random import randint\n",
    "\n",
    "class D4(Die):\n",
    "    def roll(self):\n",
    "        self.face = randint(1, 4)\n",
    "        \n",
    "    \n",
    "class D6(Die):\n",
    "    def roll(self):\n",
    "        self.face = randint(1, 6)\n",
    "    \n",
    "class D8(Die):\n",
    "    def roll(self):\n",
    "        self.face = randint(1, 8)\n",
    "        \n",
    "class D10(Die):\n",
    "    def roll(self):\n",
    "        self.face = randint(1, 10)\n",
    "        \n",
    "class D11(Die):\n",
    "    pass"
   ]
  },
  {
   "cell_type": "code",
   "execution_count": 162,
   "id": "4067ae8a",
   "metadata": {},
   "outputs": [],
   "source": [
    "d4 = D4()\n",
    "d6 = D6()\n",
    "d8 = D8()\n",
    "d10 = D10()"
   ]
  },
  {
   "cell_type": "code",
   "execution_count": 167,
   "id": "f0709db6",
   "metadata": {},
   "outputs": [
    {
     "name": "stdout",
     "output_type": "stream",
     "text": [
      "3\n"
     ]
    }
   ],
   "source": [
    "print(d4)"
   ]
  },
  {
   "cell_type": "code",
   "execution_count": 153,
   "id": "703e892a",
   "metadata": {},
   "outputs": [
    {
     "name": "stdout",
     "output_type": "stream",
     "text": [
      "2\n"
     ]
    }
   ],
   "source": [
    "print(d8)"
   ]
  },
  {
   "cell_type": "code",
   "execution_count": 154,
   "id": "2eba7bcb",
   "metadata": {},
   "outputs": [
    {
     "name": "stdout",
     "output_type": "stream",
     "text": [
      "1\n"
     ]
    }
   ],
   "source": [
    "print(d6)"
   ]
  },
  {
   "cell_type": "code",
   "execution_count": 156,
   "id": "7d153e60",
   "metadata": {},
   "outputs": [
    {
     "name": "stdout",
     "output_type": "stream",
     "text": [
      "10\n"
     ]
    }
   ],
   "source": [
    "print(d10)"
   ]
  },
  {
   "cell_type": "markdown",
   "id": "db2958ae",
   "metadata": {},
   "source": [
    "### Abstract Class\n",
    "\n",
    "- To make sure all child classes abide by the rules of the creator. We need to make sure they implement all the neccessary methods.\n",
    "- In order to set these rules, we must create an abstract base class of the Parent.\n",
    "    - We want to `roll()` method to be abstract method"
   ]
  },
  {
   "cell_type": "code",
   "execution_count": 168,
   "id": "3d381e22",
   "metadata": {},
   "outputs": [],
   "source": [
    "from abc import ABC, abstractmethod\n",
    "\n",
    "class Die(ABC):\n",
    "    def __init__(self) -> None:\n",
    "        self.face: int # Here we are just declaring that the face will be an integer\n",
    "        self.roll()\n",
    "        \n",
    "    @abstractmethod\n",
    "    def roll(self) -> None:\n",
    "        ...\n",
    "        \n",
    "    def __str__(self) -> str:\n",
    "        return f'{self.face}'"
   ]
  },
  {
   "cell_type": "code",
   "execution_count": 169,
   "id": "c91a6eb9",
   "metadata": {},
   "outputs": [],
   "source": [
    "from random import randint\n",
    "\n",
    "class D4(Die):\n",
    "    def roll(self):\n",
    "        self.face = randint(1, 4)\n",
    "        \n",
    "    \n",
    "class D6(Die):\n",
    "    def roll(self):\n",
    "        self.face = randint(1, 6)\n",
    "    \n",
    "class D8(Die):\n",
    "    def roll(self):\n",
    "        self.face = randint(1, 8)\n",
    "        \n",
    "class D10(Die):\n",
    "    def roll(self):\n",
    "        self.face = randint(1, 10)\n",
    "        \n",
    "class D11(Die):\n",
    "    pass"
   ]
  },
  {
   "cell_type": "code",
   "execution_count": 170,
   "id": "57e62325",
   "metadata": {},
   "outputs": [],
   "source": [
    "d4 = D4()"
   ]
  },
  {
   "cell_type": "code",
   "execution_count": 171,
   "id": "f8ca790a",
   "metadata": {},
   "outputs": [],
   "source": [
    "d6 = D6()"
   ]
  },
  {
   "cell_type": "code",
   "execution_count": 172,
   "id": "6bb210a0",
   "metadata": {},
   "outputs": [],
   "source": [
    "d8 = D8()"
   ]
  },
  {
   "cell_type": "code",
   "execution_count": 173,
   "id": "6bbfc1ad",
   "metadata": {},
   "outputs": [],
   "source": [
    "d10 = D10()"
   ]
  },
  {
   "cell_type": "code",
   "execution_count": 174,
   "id": "63eb6fa2",
   "metadata": {},
   "outputs": [
    {
     "ename": "TypeError",
     "evalue": "Can't instantiate abstract class D11 with abstract method roll",
     "output_type": "error",
     "traceback": [
      "\u001b[0;31m---------------------------------------------------------------------------\u001b[0m",
      "\u001b[0;31mTypeError\u001b[0m                                 Traceback (most recent call last)",
      "Cell \u001b[0;32mIn[174], line 1\u001b[0m\n\u001b[0;32m----> 1\u001b[0m d11 \u001b[38;5;241m=\u001b[39m D11()\n",
      "\u001b[0;31mTypeError\u001b[0m: Can't instantiate abstract class D11 with abstract method roll"
     ]
    }
   ],
   "source": [
    "d11 = D11()"
   ]
  },
  {
   "cell_type": "markdown",
   "id": "71fe2c6c",
   "metadata": {},
   "source": [
    "## DiceBoard - Polymorphism\n",
    "This will be the board that will contain all our dice.\n",
    "\n",
    "Our DiceBoard will do the following\n",
    "- It will collect all the dice that make up our game.\n",
    "- It will provide a method to roll all dice\n",
    "- It will provide a property to count all the faces of our dice"
   ]
  },
  {
   "cell_type": "code",
   "execution_count": 175,
   "id": "f02062dd",
   "metadata": {},
   "outputs": [],
   "source": [
    "from typing import Type\n",
    "\n",
    "class DiceBoard:\n",
    "    # Type[Die] means it will be a class that has as parent Die\n",
    "    def __init__(self, *die_classes: Type[Die]):\n",
    "        self.dice: list[Die] = [die() for die in die_classes]\n",
    "            \n",
    "    def roll_all_dice(self):\n",
    "        # This method will roll all the dice\n",
    "        for die in self.dice:\n",
    "            die.roll()\n",
    "            \n",
    "    # TODO: Create a property called `total` that will return the total sum of all dice faces\n",
    "    @property\n",
    "    def total(self):\n",
    "        return sum(die.face for die in self.dice)"
   ]
  },
  {
   "cell_type": "code",
   "execution_count": 176,
   "id": "5d3969e4",
   "metadata": {},
   "outputs": [],
   "source": [
    "dice_board = DiceBoard(D4, D8, D10)"
   ]
  },
  {
   "cell_type": "code",
   "execution_count": 177,
   "id": "beed8783",
   "metadata": {},
   "outputs": [
    {
     "data": {
      "text/plain": [
       "19"
      ]
     },
     "execution_count": 177,
     "metadata": {},
     "output_type": "execute_result"
    }
   ],
   "source": [
    "dice_board.total"
   ]
  },
  {
   "cell_type": "code",
   "execution_count": 178,
   "id": "8928d787",
   "metadata": {},
   "outputs": [],
   "source": [
    "dice_board.roll_all_dice()"
   ]
  },
  {
   "cell_type": "code",
   "execution_count": 179,
   "id": "61746372",
   "metadata": {},
   "outputs": [
    {
     "data": {
      "text/plain": [
       "12"
      ]
     },
     "execution_count": 179,
     "metadata": {},
     "output_type": "execute_result"
    }
   ],
   "source": [
    "dice_board.total"
   ]
  },
  {
   "cell_type": "markdown",
   "id": "ca2ac0de",
   "metadata": {},
   "source": [
    "## Access Modifiers, Getters, Setters, Deleters"
   ]
  },
  {
   "cell_type": "code",
   "execution_count": 180,
   "id": "05c630a7",
   "metadata": {},
   "outputs": [],
   "source": [
    "dice_board.dice = 'You are funny'"
   ]
  },
  {
   "cell_type": "code",
   "execution_count": 181,
   "id": "5d8f2b7d",
   "metadata": {},
   "outputs": [
    {
     "ename": "AttributeError",
     "evalue": "'str' object has no attribute 'face'",
     "output_type": "error",
     "traceback": [
      "\u001b[0;31m---------------------------------------------------------------------------\u001b[0m",
      "\u001b[0;31mAttributeError\u001b[0m                            Traceback (most recent call last)",
      "Cell \u001b[0;32mIn[181], line 1\u001b[0m\n\u001b[0;32m----> 1\u001b[0m dice_board\u001b[38;5;241m.\u001b[39mtotal\n",
      "Cell \u001b[0;32mIn[175], line 16\u001b[0m, in \u001b[0;36mDiceBoard.total\u001b[0;34m(self)\u001b[0m\n\u001b[1;32m     14\u001b[0m \u001b[38;5;129m@property\u001b[39m\n\u001b[1;32m     15\u001b[0m \u001b[38;5;28;01mdef\u001b[39;00m \u001b[38;5;21mtotal\u001b[39m(\u001b[38;5;28mself\u001b[39m):\n\u001b[0;32m---> 16\u001b[0m     \u001b[38;5;28;01mreturn\u001b[39;00m \u001b[38;5;28msum\u001b[39m(die\u001b[38;5;241m.\u001b[39mface \u001b[38;5;28;01mfor\u001b[39;00m die \u001b[38;5;129;01min\u001b[39;00m \u001b[38;5;28mself\u001b[39m\u001b[38;5;241m.\u001b[39mdice)\n",
      "Cell \u001b[0;32mIn[175], line 16\u001b[0m, in \u001b[0;36m<genexpr>\u001b[0;34m(.0)\u001b[0m\n\u001b[1;32m     14\u001b[0m \u001b[38;5;129m@property\u001b[39m\n\u001b[1;32m     15\u001b[0m \u001b[38;5;28;01mdef\u001b[39;00m \u001b[38;5;21mtotal\u001b[39m(\u001b[38;5;28mself\u001b[39m):\n\u001b[0;32m---> 16\u001b[0m     \u001b[38;5;28;01mreturn\u001b[39;00m \u001b[38;5;28msum\u001b[39m(die\u001b[38;5;241m.\u001b[39mface \u001b[38;5;28;01mfor\u001b[39;00m die \u001b[38;5;129;01min\u001b[39;00m \u001b[38;5;28mself\u001b[39m\u001b[38;5;241m.\u001b[39mdice)\n",
      "\u001b[0;31mAttributeError\u001b[0m: 'str' object has no attribute 'face'"
     ]
    }
   ],
   "source": [
    "dice_board.total"
   ]
  },
  {
   "cell_type": "code",
   "execution_count": 182,
   "id": "c5aa954c",
   "metadata": {},
   "outputs": [],
   "source": [
    "from typing import Type\n",
    "\n",
    "class DiceBoard:\n",
    "    # Type[Die] means it will be a class that has as parent Die\n",
    "    def __init__(self, *die_classes: Type[Die]):\n",
    "        self.__dice: list[Die] = [die() for die in die_classes]\n",
    "            \n",
    "    def roll_all_dice(self):\n",
    "        # This method will roll all the dice\n",
    "        for die in self.dice:\n",
    "            die.roll()\n",
    "            \n",
    "    @property # GETTER\n",
    "    def dice(self):\n",
    "        return self.__dice\n",
    "    \n",
    "    @dice.setter\n",
    "    def dice(self, value):\n",
    "        raise NotImplementedError\n",
    "            \n",
    "    # TODO: Create a property called `total` that will return the total sum of all dice faces\n",
    "    @property\n",
    "    def total(self):\n",
    "        return sum(die.face for die in self.dice)"
   ]
  },
  {
   "cell_type": "code",
   "execution_count": 184,
   "id": "b6e47630",
   "metadata": {},
   "outputs": [
    {
     "ename": "NotImplementedError",
     "evalue": "",
     "output_type": "error",
     "traceback": [
      "\u001b[0;31m---------------------------------------------------------------------------\u001b[0m",
      "\u001b[0;31mNotImplementedError\u001b[0m                       Traceback (most recent call last)",
      "Cell \u001b[0;32mIn[184], line 2\u001b[0m\n\u001b[1;32m      1\u001b[0m dice_board \u001b[38;5;241m=\u001b[39m DiceBoard(D4, D6, D10)\n\u001b[0;32m----> 2\u001b[0m dice_board\u001b[38;5;241m.\u001b[39mdice \u001b[38;5;241m=\u001b[39m [\u001b[38;5;241m4\u001b[39m,\u001b[38;5;241m5\u001b[39m,\u001b[38;5;241m6\u001b[39m]\n",
      "Cell \u001b[0;32mIn[182], line 19\u001b[0m, in \u001b[0;36mDiceBoard.dice\u001b[0;34m(self, value)\u001b[0m\n\u001b[1;32m     17\u001b[0m \u001b[38;5;129m@dice\u001b[39m\u001b[38;5;241m.\u001b[39msetter\n\u001b[1;32m     18\u001b[0m \u001b[38;5;28;01mdef\u001b[39;00m \u001b[38;5;21mdice\u001b[39m(\u001b[38;5;28mself\u001b[39m, value):\n\u001b[0;32m---> 19\u001b[0m     \u001b[38;5;28;01mraise\u001b[39;00m \u001b[38;5;167;01mNotImplementedError\u001b[39;00m\n",
      "\u001b[0;31mNotImplementedError\u001b[0m: "
     ]
    }
   ],
   "source": [
    "dice_board = DiceBoard(D4, D6, D10)\n",
    "dice_board.dice = [4,5,6]"
   ]
  },
  {
   "cell_type": "code",
   "execution_count": 185,
   "id": "3e5d8627",
   "metadata": {},
   "outputs": [
    {
     "data": {
      "text/plain": [
       "[<__main__.D4 at 0x1137686d0>,\n",
       " <__main__.D6 at 0x11376bfd0>,\n",
       " <__main__.D10 at 0x113768210>]"
      ]
     },
     "execution_count": 185,
     "metadata": {},
     "output_type": "execute_result"
    }
   ],
   "source": [
    "dice_board.dice # [3,4,5]"
   ]
  },
  {
   "cell_type": "code",
   "execution_count": 1,
   "id": "152c295c",
   "metadata": {},
   "outputs": [],
   "source": [
    "## Get object representation\n",
    "\n",
    "from abc import ABC, abstractmethod\n",
    "\n",
    "class Die(ABC):\n",
    "    def __init__(self) -> None:\n",
    "        self.face: int # Here we are just declaring that the face will be an integer\n",
    "        self.roll()\n",
    "        \n",
    "    @abstractmethod\n",
    "    def roll(self) -> None:\n",
    "        ...\n",
    "        \n",
    "    def __str__(self) -> str:\n",
    "        # String representation # Works with print()\n",
    "        return f'{self.face}'\n",
    "    \n",
    "    def __repr__(self) -> str:\n",
    "        #  Get object representation # Works without print()\n",
    "        return f'{self.face}'"
   ]
  },
  {
   "cell_type": "code",
   "execution_count": 2,
   "id": "1d1563ba",
   "metadata": {},
   "outputs": [],
   "source": [
    "from random import randint\n",
    "\n",
    "class D4(Die):\n",
    "    def roll(self):\n",
    "        self.face = randint(1, 4)\n",
    "        \n",
    "    \n",
    "class D6(Die):\n",
    "    def roll(self):\n",
    "        self.face = randint(1, 6)\n",
    "    \n",
    "class D8(Die):\n",
    "    def roll(self):\n",
    "        self.face = randint(1, 8)\n",
    "        \n",
    "class D10(Die):\n",
    "    def roll(self):\n",
    "        self.face = randint(1, 10)\n",
    "        \n",
    "class D11(Die):\n",
    "    # It is an abstract based class because it did not provide implementation for the \n",
    "    # abstract method\n",
    "    pass"
   ]
  },
  {
   "cell_type": "code",
   "execution_count": 3,
   "id": "14c06499",
   "metadata": {},
   "outputs": [
    {
     "data": {
      "text/plain": [
       "frozenset({'roll'})"
      ]
     },
     "execution_count": 3,
     "metadata": {},
     "output_type": "execute_result"
    }
   ],
   "source": [
    "D11.__abstractmethods__ # Abstract based class"
   ]
  },
  {
   "cell_type": "code",
   "execution_count": 4,
   "id": "97211b8f",
   "metadata": {},
   "outputs": [
    {
     "data": {
      "text/plain": [
       "frozenset()"
      ]
     },
     "execution_count": 4,
     "metadata": {},
     "output_type": "execute_result"
    }
   ],
   "source": [
    "D4.__abstractmethods__ # Dervied class"
   ]
  },
  {
   "cell_type": "code",
   "execution_count": 188,
   "id": "74675fb7",
   "metadata": {},
   "outputs": [],
   "source": [
    "dice_board = DiceBoard(D4, D6, D10)"
   ]
  },
  {
   "cell_type": "code",
   "execution_count": 191,
   "id": "e037eed2",
   "metadata": {},
   "outputs": [
    {
     "data": {
      "text/plain": [
       "[4, 6, 8]"
      ]
     },
     "execution_count": 191,
     "metadata": {},
     "output_type": "execute_result"
    }
   ],
   "source": [
    "dice_board.dice"
   ]
  },
  {
   "cell_type": "code",
   "execution_count": 192,
   "id": "19e75940",
   "metadata": {},
   "outputs": [
    {
     "data": {
      "text/plain": [
       "18"
      ]
     },
     "execution_count": 192,
     "metadata": {},
     "output_type": "execute_result"
    }
   ],
   "source": [
    "dice_board.total"
   ]
  },
  {
   "cell_type": "markdown",
   "id": "b62a18ff",
   "metadata": {},
   "source": [
    "### Modify the `roll_all_dice` method of the diceboard to roll specific dice\n",
    "\n",
    "We will create a method called `to_be_rolled([0,1])`\n",
    "\n",
    "**Chain calls**\n",
    "\n",
    "```python\n",
    "# Roll all dice\n",
    "dice_board.roll_all_dice()\n",
    "\n",
    "# Roll specific dice\n",
    "dice_board.to_be_rolled([0,1]).roll_all_dice()\n",
    "```\n"
   ]
  },
  {
   "cell_type": "code",
   "execution_count": 205,
   "id": "c41d5d9a",
   "metadata": {},
   "outputs": [],
   "source": [
    "from typing import Type\n",
    "\n",
    "class DiceBoard:\n",
    "    # Type[Die] means it will be a class that has as parent Die\n",
    "    def __init__(self, *die_classes: Type[Die]):\n",
    "        self.__dice: list[Die] = [die() for die in die_classes]\n",
    "        self.rolled_pos: set(int) = set()\n",
    "            \n",
    "    def to_be_rolled(self, pos: list[int]):\n",
    "        # Check to make sure all the positions given falls in the range\n",
    "        if all(0 <= p < len(self.__dice) for p in pos):\n",
    "            self.rolled_pos = set(pos) # remove duplicate indices # [1,2,2,2,1] # [1,2]\n",
    "        else:\n",
    "            raise ValueError('Invalid Dice Positions')\n",
    "            \n",
    "        return self # To enable chain call.\n",
    "            \n",
    "    def roll_all_dice(self):\n",
    "        # This method will roll all the dice\n",
    "        \n",
    "        if self.rolled_pos:\n",
    "            # If possition was set, then roll only dice at that position\n",
    "            for pos in self.rolled_pos:\n",
    "                self.__dice[pos].roll()\n",
    "                \n",
    "            self.rolled_pos = set()\n",
    "        else:  \n",
    "            # Else, roll all dice\n",
    "            for die in self.dice:\n",
    "                die.roll()\n",
    "          \n",
    "    @property # GETTER\n",
    "    def dice(self):\n",
    "        return self.__dice\n",
    "    \n",
    "    @dice.setter\n",
    "    def dice(self, value):\n",
    "        raise NotImplementedError\n",
    "            \n",
    "    # TODO: Create a property called `total` that will return the total sum of all dice faces\n",
    "    @property\n",
    "    def total(self):\n",
    "        return sum(die.face for die in self.dice)"
   ]
  },
  {
   "cell_type": "code",
   "execution_count": null,
   "id": "cf6f9fdc",
   "metadata": {},
   "outputs": [],
   "source": [
    "dice_board.to_be_rolled([0,1,2])\n",
    "\n",
    "all() # returns true if everything is true\n",
    "any() # returns true if at least one is true"
   ]
  },
  {
   "cell_type": "code",
   "execution_count": 202,
   "id": "69283a57",
   "metadata": {},
   "outputs": [],
   "source": [
    "dice = [1,3,7]\n",
    "pos = [0,1,2, 10]"
   ]
  },
  {
   "cell_type": "code",
   "execution_count": 203,
   "id": "10bb77bc",
   "metadata": {},
   "outputs": [
    {
     "data": {
      "text/plain": [
       "False"
      ]
     },
     "execution_count": 203,
     "metadata": {},
     "output_type": "execute_result"
    }
   ],
   "source": [
    "all(0 <= p < len(dice) for p in pos) # 0 <= 9 < 3"
   ]
  },
  {
   "cell_type": "code",
   "execution_count": 204,
   "id": "790ed49e",
   "metadata": {},
   "outputs": [
    {
     "data": {
      "text/plain": [
       "[True, True, True, False]"
      ]
     },
     "execution_count": 204,
     "metadata": {},
     "output_type": "execute_result"
    }
   ],
   "source": [
    "[0 <= p < len(dice) for p in pos]"
   ]
  },
  {
   "cell_type": "code",
   "execution_count": 210,
   "id": "ca04081b",
   "metadata": {},
   "outputs": [
    {
     "data": {
      "text/plain": [
       "[2, 6, 5]"
      ]
     },
     "execution_count": 210,
     "metadata": {},
     "output_type": "execute_result"
    }
   ],
   "source": [
    "dice_board = DiceBoard(D4, D8, D6)\n",
    "dice_board.dice"
   ]
  },
  {
   "cell_type": "code",
   "execution_count": 211,
   "id": "566c65b8",
   "metadata": {},
   "outputs": [
    {
     "data": {
      "text/plain": [
       "[3, 8, 3]"
      ]
     },
     "execution_count": 211,
     "metadata": {},
     "output_type": "execute_result"
    }
   ],
   "source": [
    "dice_board.roll_all_dice()\n",
    "dice_board.dice"
   ]
  },
  {
   "cell_type": "code",
   "execution_count": 213,
   "id": "595d41ba",
   "metadata": {},
   "outputs": [],
   "source": [
    "dice_board.to_be_rolled([1, 2]).roll_all_dice()"
   ]
  },
  {
   "cell_type": "code",
   "execution_count": 214,
   "id": "3214cbf3",
   "metadata": {},
   "outputs": [
    {
     "data": {
      "text/plain": [
       "[3, 8, 6]"
      ]
     },
     "execution_count": 214,
     "metadata": {},
     "output_type": "execute_result"
    }
   ],
   "source": [
    "dice_board.dice"
   ]
  },
  {
   "cell_type": "markdown",
   "id": "b6175507",
   "metadata": {},
   "source": [
    "### Operator Overloading\n",
    "We want to overload the `+` operator of our DiceBoard"
   ]
  },
  {
   "cell_type": "code",
   "execution_count": 219,
   "id": "51679837",
   "metadata": {},
   "outputs": [
    {
     "data": {
      "text/plain": [
       "True"
      ]
     },
     "execution_count": 219,
     "metadata": {},
     "output_type": "execute_result"
    }
   ],
   "source": [
    "#new_dice_board = dice_board + D10 # __add__\n",
    "\n",
    "isinstance(D10, type) # Check if it is a class and not an object\n",
    "issubclass(D10, Die) # It is a child of Die"
   ]
  },
  {
   "cell_type": "code",
   "execution_count": 220,
   "id": "3496a040",
   "metadata": {},
   "outputs": [],
   "source": [
    "from typing import Type\n",
    "from copy import deepcopy\n",
    "\n",
    "class DiceBoard:\n",
    "    # Type[Die] means it will be a class that has as parent Die\n",
    "    def __init__(self, *die_classes: Type[Die]):\n",
    "        self.__dice: list[Die] = [die() for die in die_classes]\n",
    "        self.rolled_pos: set(int) = set()\n",
    "            \n",
    "    def to_be_rolled(self, pos):\n",
    "        # Check to make sure all the positions given falls in the range\n",
    "        if all(0 <= p < len(self.__dice) for p in pos):\n",
    "            self.rolled_pos = set(pos)\n",
    "        else:\n",
    "            raise ValueError('Invalid Dice Positions')\n",
    "            \n",
    "        return self # To enable chain call.\n",
    "            \n",
    "    def roll_all_dice(self):\n",
    "        # This method will roll all the dice\n",
    "        \n",
    "        if self.rolled_pos:\n",
    "            # If possition was set, then roll only dice at that position\n",
    "            for pos in self.rolled_pos:\n",
    "                self.__dice[pos].roll()\n",
    "                \n",
    "            self.rolled_pos = set()\n",
    "        else:  \n",
    "            # Else, roll all dice\n",
    "            for die in self.dice:\n",
    "                die.roll()\n",
    "                \n",
    "    def __add__(self, die: Type[Die]):\n",
    "        # Check if 'die' is a class and it is a child of 'Die'\n",
    "        if isinstance(die, type) and issubclass(die, Die): \n",
    "            new_self = deepcopy(self)\n",
    "\n",
    "            new_self.__dice += [die()]\n",
    "            return new_self\n",
    "        else:\n",
    "            raise NotImplementedError\n",
    "          \n",
    "    @property # GETTER\n",
    "    def dice(self):\n",
    "        return self.__dice\n",
    "    \n",
    "    @dice.setter\n",
    "    def dice(self, value):\n",
    "        raise NotImplementedError\n",
    "            \n",
    "    # TODO: Create a property called `total` that will return the total sum of all dice faces\n",
    "    @property\n",
    "    def total(self):\n",
    "        return sum(die.face for die in self.dice)"
   ]
  },
  {
   "cell_type": "code",
   "execution_count": 240,
   "id": "9df1afa2",
   "metadata": {},
   "outputs": [
    {
     "data": {
      "text/plain": [
       "[3, 3, 2]"
      ]
     },
     "execution_count": 240,
     "metadata": {},
     "output_type": "execute_result"
    }
   ],
   "source": [
    "dice_board.dice"
   ]
  },
  {
   "cell_type": "code",
   "execution_count": 241,
   "id": "c5f9910d",
   "metadata": {},
   "outputs": [
    {
     "ename": "NotImplementedError",
     "evalue": "",
     "output_type": "error",
     "traceback": [
      "\u001b[0;31m---------------------------------------------------------------------------\u001b[0m",
      "\u001b[0;31mNotImplementedError\u001b[0m                       Traceback (most recent call last)",
      "Cell \u001b[0;32mIn[241], line 1\u001b[0m\n\u001b[0;32m----> 1\u001b[0m dice_board\u001b[38;5;241m.\u001b[39mdice \u001b[38;5;241m=\u001b[39m \u001b[38;5;241m56644\u001b[39m\n",
      "Cell \u001b[0;32mIn[220], line 49\u001b[0m, in \u001b[0;36mDiceBoard.dice\u001b[0;34m(self, value)\u001b[0m\n\u001b[1;32m     47\u001b[0m \u001b[38;5;129m@dice\u001b[39m\u001b[38;5;241m.\u001b[39msetter\n\u001b[1;32m     48\u001b[0m \u001b[38;5;28;01mdef\u001b[39;00m \u001b[38;5;21mdice\u001b[39m(\u001b[38;5;28mself\u001b[39m, value):\n\u001b[0;32m---> 49\u001b[0m     \u001b[38;5;28;01mraise\u001b[39;00m \u001b[38;5;167;01mNotImplementedError\u001b[39;00m\n",
      "\u001b[0;31mNotImplementedError\u001b[0m: "
     ]
    }
   ],
   "source": [
    "dice_board.dice = 56644"
   ]
  },
  {
   "cell_type": "code",
   "execution_count": 218,
   "id": "ba480bba",
   "metadata": {},
   "outputs": [
    {
     "data": {
      "text/plain": [
       "<__main__.DiceBoard at 0x11387e510>"
      ]
     },
     "execution_count": 218,
     "metadata": {},
     "output_type": "execute_result"
    }
   ],
   "source": [
    "# Mutable and Immutable.\n",
    "dice_board\n",
    "\n",
    "## We can create a copy of that object and work on the new copy"
   ]
  },
  {
   "cell_type": "code",
   "execution_count": null,
   "id": "ba075418",
   "metadata": {},
   "outputs": [],
   "source": [
    "new_dice_board = copy(dice_board)\n",
    "\n",
    "# Deepcopy\n",
    "\n",
    "from copy import deepcopy"
   ]
  },
  {
   "cell_type": "code",
   "execution_count": 222,
   "id": "14136d69",
   "metadata": {},
   "outputs": [
    {
     "data": {
      "text/plain": [
       "[3, 3, 6]"
      ]
     },
     "execution_count": 222,
     "metadata": {},
     "output_type": "execute_result"
    }
   ],
   "source": [
    "dice_board = DiceBoard(D4, D6, D8)\n",
    "dice_board.dice"
   ]
  },
  {
   "cell_type": "code",
   "execution_count": 236,
   "id": "93988edb",
   "metadata": {},
   "outputs": [
    {
     "data": {
      "text/plain": [
       "[3, 3, 2]"
      ]
     },
     "execution_count": 236,
     "metadata": {},
     "output_type": "execute_result"
    }
   ],
   "source": [
    "dice_board.to_be_rolled([2]).roll_all_dice()\n",
    "dice_board.dice"
   ]
  },
  {
   "cell_type": "code",
   "execution_count": 237,
   "id": "64b9e566",
   "metadata": {},
   "outputs": [],
   "source": [
    "new_dice_board = dice_board + D10"
   ]
  },
  {
   "cell_type": "code",
   "execution_count": 238,
   "id": "fef96ee5",
   "metadata": {},
   "outputs": [
    {
     "data": {
      "text/plain": [
       "[3, 3, 2, 1]"
      ]
     },
     "execution_count": 238,
     "metadata": {},
     "output_type": "execute_result"
    }
   ],
   "source": [
    "new_dice_board.dice"
   ]
  },
  {
   "cell_type": "code",
   "execution_count": 239,
   "id": "47acf91d",
   "metadata": {},
   "outputs": [
    {
     "data": {
      "text/plain": [
       "[3, 3, 2]"
      ]
     },
     "execution_count": 239,
     "metadata": {},
     "output_type": "execute_result"
    }
   ],
   "source": [
    "dice_board.dice"
   ]
  },
  {
   "cell_type": "markdown",
   "id": "fdfbd7d6",
   "metadata": {},
   "source": [
    "## Build the winning dice rule\n",
    "Let's say we have a winning dice if when we roll;\n",
    "- The faces of all the dice are the same\n",
    "- The faces of all dice are in decreasing order\n",
    "- At least two faces are the same\n",
    "\n",
    "\n",
    "### Winning rule: The faces of all the dice are the same"
   ]
  },
  {
   "cell_type": "code",
   "execution_count": 7,
   "id": "e70e981e",
   "metadata": {},
   "outputs": [],
   "source": [
    "from typing import Type\n",
    "from copy import deepcopy\n",
    "\n",
    "class DiceBoard:\n",
    "    # Type[Die] means it will be a class that has as parent Die\n",
    "    def __init__(self, *die_classes: Type[Die]):\n",
    "        self.__dice: list[Die] = [die() for die in die_classes]\n",
    "        self.rolled_pos: set(int) = set()\n",
    "            \n",
    "    def to_be_rolled(self, pos):\n",
    "        # Check to make sure all the positions given falls in the range\n",
    "        if all(0 <= p < len(self.__dice) for p in pos):\n",
    "            self.rolled_pos = set(pos)\n",
    "        else:\n",
    "            raise ValueError('Invalid Dice Positions')\n",
    "            \n",
    "        return self # To enable chain call.\n",
    "            \n",
    "    def roll_all_dice(self):\n",
    "        # This method will roll all the dice\n",
    "        \n",
    "        if self.rolled_pos:\n",
    "            # If possition was set, then roll only dice at that position\n",
    "            for pos in self.rolled_pos:\n",
    "                self.__dice[pos].roll()\n",
    "                \n",
    "            self.rolled_pos = set()\n",
    "        else:  \n",
    "            # Else, roll all dice\n",
    "            for die in self.dice:\n",
    "                die.roll()\n",
    "                \n",
    "    def is_winner(self) -> bool:\n",
    "        return len(set(die.face for die in self.__dice)) == 1\n",
    "        \n",
    "                \n",
    "    def __add__(self, die: Type[Die]):\n",
    "        # Check if 'die' is a class and it is a child of 'Die'\n",
    "        if isinstance(die, type) and issubclass(die, Die): \n",
    "            new_self = deepcopy(self)\n",
    "\n",
    "            new_self.__dice += [die()]\n",
    "            return new_self\n",
    "        else:\n",
    "            raise NotImplementedError\n",
    "          \n",
    "    @property # GETTER\n",
    "    def dice(self):\n",
    "        return self.__dice\n",
    "    \n",
    "    @dice.setter\n",
    "    def dice(self, value):\n",
    "        raise NotImplementedError\n",
    "            \n",
    "    # TODO: Create a property called `total` that will return the total sum of all dice faces\n",
    "    @property\n",
    "    def total(self):\n",
    "        return sum(die.face for die in self.dice)"
   ]
  },
  {
   "cell_type": "code",
   "execution_count": 5,
   "id": "bd25251e",
   "metadata": {},
   "outputs": [],
   "source": [
    "dice = [3,3,3,3,3]"
   ]
  },
  {
   "cell_type": "code",
   "execution_count": 6,
   "id": "d3203c17",
   "metadata": {},
   "outputs": [
    {
     "data": {
      "text/plain": [
       "1"
      ]
     },
     "execution_count": 6,
     "metadata": {},
     "output_type": "execute_result"
    }
   ],
   "source": [
    "len(set(dice))"
   ]
  },
  {
   "cell_type": "markdown",
   "id": "d01f850f",
   "metadata": {},
   "source": [
    "### Dice Game Base\n",
    "So far, we were bulding the different parts of the dame; `Die`, `DiceBoard`\n",
    "\n",
    "We want to create the game such that others can create their own unique version."
   ]
  },
  {
   "cell_type": "code",
   "execution_count": 8,
   "id": "edc69f73",
   "metadata": {},
   "outputs": [],
   "source": [
    "from abc import ABC, abstractmethod\n",
    "from typing import Type\n",
    "\n",
    "class DiceGameBase(ABC):\n",
    "    def __init__(self):\n",
    "        self._dice_board: DiceBoard\n",
    "        self._player_name: str\n",
    "        self._roll_trials: int\n",
    "            \n",
    "    @abstractmethod\n",
    "    def check_winner(self):\n",
    "        ...\n",
    "        \n",
    "    @abstractmethod\n",
    "    def roll(self):\n",
    "        ...\n",
    "        \n",
    "    @abstractmethod\n",
    "    def add_dice(self, die_class: Type[Die]):\n",
    "        ...\n",
    "    \n",
    "    @property\n",
    "    @abstractmethod\n",
    "    def total_points(self):\n",
    "        ..."
   ]
  },
  {
   "cell_type": "markdown",
   "id": "4d73defe",
   "metadata": {},
   "source": [
    "## DummyDiceGame\n",
    "- We have all the components for our game\n",
    "    - Die\n",
    "    - DiceBoard\n",
    "    - DiceGameBase\n",
    "    \n",
    "### Rules\n",
    "- At the start of the game, we will have one free roll for the player, then the player will have 5 trials and if after the 5 trials and we still don't have a win, the program will quit.\n",
    "- In each of the trials, the player can decide what die to roll\n",
    "- The game will start with just three dice; `D4`, `D6`, `D8` , then the player can decide to add a forth die; `D10`."
   ]
  },
  {
   "cell_type": "code",
   "execution_count": 16,
   "id": "b25e4ea6",
   "metadata": {},
   "outputs": [],
   "source": [
    "class DummyDiceGame(DiceGameBase):\n",
    "    def __init__(self, dice_board: DiceBoard, player_name: str):\n",
    "        self._dice_board = dice_board\n",
    "        self._player_name = player_name\n",
    "        self.roll_trials = 5\n",
    "        \n",
    "    def check_winner(self):\n",
    "        return self._dice_board.is_winner()\n",
    "    \n",
    "    def roll(self, pos: list[int]):\n",
    "        if self.roll_trials <= 0:\n",
    "            raise OperationalError('You have exhausted your roll trials')\n",
    "        \n",
    "        if pos:\n",
    "            self._dice_board.to_be_rolled(pos).roll_all_die()\n",
    "        else:\n",
    "            self._dice_board.roll_all_die()\n",
    "        \n",
    "        # reduce roll trials\n",
    "        self.roll_trials -= 1\n",
    "        \n",
    "    def add_dice(self, dice_class: Type[Die]):\n",
    "        self._dice_board = self._dice_board + dice_class\n",
    "        \n",
    "    @property\n",
    "    def total_points(self):\n",
    "        return self._dice_board.total\n",
    "    \n",
    "    @property\n",
    "    def dice(self):\n",
    "        return self._dice_board.dice"
   ]
  },
  {
   "cell_type": "code",
   "execution_count": 17,
   "id": "1d9db74d",
   "metadata": {},
   "outputs": [],
   "source": [
    "def main():\n",
    "    player_name = 'Eyong' # input('Player, please state your name: ')\n",
    "    dice_board = DiceBoard(D4, D6, D8)\n",
    "    game = DummyDiceGame(dice_board, player_name)\n",
    "    \n",
    "    # since we had a free initial roll,\n",
    "    if game.check_winner():\n",
    "        print(f'{player_name} Wins with dice {game.dice}')\n",
    "    else:\n",
    "        print(f'{player_name} Loss with dice {game.dice}')"
   ]
  },
  {
   "cell_type": "code",
   "execution_count": 28,
   "id": "c027dac2",
   "metadata": {},
   "outputs": [
    {
     "name": "stdout",
     "output_type": "stream",
     "text": [
      "Eyong Wins with dice [4, 4, 4]\n"
     ]
    }
   ],
   "source": [
    "main()"
   ]
  },
  {
   "cell_type": "code",
   "execution_count": 29,
   "id": "302a1ac5",
   "metadata": {},
   "outputs": [
    {
     "name": "stdout",
     "output_type": "stream",
     "text": [
      "**********\n"
     ]
    }
   ],
   "source": [
    "print('*'*10)"
   ]
  },
  {
   "cell_type": "markdown",
   "id": "e7f6415b",
   "metadata": {},
   "source": [
    "## Your Turn - Create your own Dice Game\n",
    "Using the abstract base classes `Die` and `DiceGameBase`, create your own exiting game, which your own rules. \n",
    "\n",
    "You can create your own `DiceBoard` and many `Dice` as you want. Or you can use what is there already.\n",
    "\n",
    "Some ideas here\n",
    "\n",
    "- Implement a different winning rule\n",
    "- Introduce two or more players to compete together\n",
    "- Add more features a player can peform to increase his chances of winning.\n",
    "    - For example, the player could decide to remove a die from the diceboard.\n",
    "- Add a way to exit the game, even when you still have roll trials.\n",
    "- Add ways to multiply the dice. For example, if you have `[2,4]`, you can multiply by 2 so that you have `[2, 4, 2, 4]`.\n",
    "- Add sound effect so that when the game is playing the sound plays\n",
    "- Use a GUI. Rather than running it on the terminal, you can build an attractive GUI with [PyGame](https://www.pygame.org/news) for example.\n",
    "- Use animations either in the CLI or GUI. For example, it'll be nice to see the dice rolling in real-time."
   ]
  },
  {
   "cell_type": "code",
   "execution_count": null,
   "id": "2d48414b",
   "metadata": {},
   "outputs": [],
   "source": []
  }
 ],
 "metadata": {
  "kernelspec": {
   "display_name": "Python 3 (ipykernel)",
   "language": "python",
   "name": "python3"
  },
  "language_info": {
   "codemirror_mode": {
    "name": "ipython",
    "version": 3
   },
   "file_extension": ".py",
   "mimetype": "text/x-python",
   "name": "python",
   "nbconvert_exporter": "python",
   "pygments_lexer": "ipython3",
   "version": "3.11.5"
  }
 },
 "nbformat": 4,
 "nbformat_minor": 5
}
