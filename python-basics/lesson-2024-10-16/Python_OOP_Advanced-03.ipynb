{
 "cells": [
  {
   "cell_type": "markdown",
   "id": "3c43520c",
   "metadata": {},
   "source": [
    "# Design Patterns\n",
    "> Instead of code reuse, with patterns we get experience reuse\n",
    "\n",
    "## Properties of design pattern\n",
    "- They are language-independent.\n",
    "- They are time-tested, well-proven and well-known and many experts in the software industry agree with them.\n",
    "- They introduce a clever way to solving problems\n",
    "- They are dynamic, meaning new design patterns are been discovered now and then.\n",
    "- They are highly customizable\n",
    "- They are solutions to known issues.\n"
   ]
  },
  {
   "cell_type": "markdown",
   "id": "b26a069c",
   "metadata": {},
   "source": [
    "## Taxonomy of Design Pattern\n",
    "\n",
    "### Snippet \n",
    "This is usually code in some programming language for a specific purpose\n",
    "\n",
    "### Design\n",
    "A design is a code snippet that solve a specific problem\n",
    "\n",
    "### Pattern\n",
    "This is a design that is well-proven, time-tested, scalable."
   ]
  },
  {
   "cell_type": "markdown",
   "id": "68a68eea",
   "metadata": {},
   "source": [
    "### Definition\n",
    "\n",
    "Design Patterns are time-tested, well-proven development paradigms or code that offers a clever, structured approach to solving common programming problem"
   ]
  },
  {
   "cell_type": "markdown",
   "id": "e0077f64",
   "metadata": {},
   "source": [
    "## Design Pattern Categories\n",
    "### Creational Pattern\n",
    "Design patterns in this category governs the creation of objects of a class.\n",
    "\n",
    "### Structural Pattern \n",
    "Design patterns in this category governs the assembling of objects and classes into larger structures for flexibility and efficiency\n",
    "\n",
    "### Behavioral Pattern\n",
    "Design patterns in this category governs the effective communication and the assignment of responsibilities between objects."
   ]
  },
  {
   "cell_type": "markdown",
   "id": "092fdbfe",
   "metadata": {},
   "source": [
    "## Creational Pattern\n",
    "### Singleton Pattern\n",
    "> It provides a mechanism to have one and only one object of a given class.\n",
    "\n",
    "#### Use Cases\n",
    "- In databases, you want to have only one instance of the database to write to that database for data consistency.\n",
    "- In your country, you will always have one and only one valid ID"
   ]
  },
  {
   "cell_type": "code",
   "execution_count": 1,
   "id": "3cb8e364",
   "metadata": {},
   "outputs": [],
   "source": [
    "class A:\n",
    "    pass \n",
    "\n",
    "a1 = A()\n",
    "a2 = A()\n",
    "a3 = A()"
   ]
  },
  {
   "cell_type": "code",
   "execution_count": 2,
   "id": "01db0aee",
   "metadata": {},
   "outputs": [
    {
     "name": "stdout",
     "output_type": "stream",
     "text": [
      "<__main__.A object at 0x110936910>\n",
      "<__main__.A object at 0x110937650>\n",
      "<__main__.A object at 0x110937310>\n"
     ]
    }
   ],
   "source": [
    "print(a1)\n",
    "print(a2)\n",
    "print(a3)"
   ]
  },
  {
   "cell_type": "code",
   "execution_count": 4,
   "id": "9f7bac47",
   "metadata": {},
   "outputs": [
    {
     "name": "stdout",
     "output_type": "stream",
     "text": [
      "False\n",
      "False\n"
     ]
    }
   ],
   "source": [
    "print(a1 is a2) # compare identity \n",
    "print(a2 == a3) # compares value"
   ]
  },
  {
   "cell_type": "code",
   "execution_count": 5,
   "id": "d74507bb",
   "metadata": {},
   "outputs": [
    {
     "data": {
      "text/plain": [
       "False"
      ]
     },
     "execution_count": 5,
     "metadata": {},
     "output_type": "execute_result"
    }
   ],
   "source": [
    "# Recommended. use id()\n",
    "id(a1) == id(a2) == id(a3)"
   ]
  },
  {
   "cell_type": "code",
   "execution_count": 6,
   "id": "484b3242",
   "metadata": {},
   "outputs": [
    {
     "data": {
      "text/plain": [
       "4573063440"
      ]
     },
     "execution_count": 6,
     "metadata": {},
     "output_type": "execute_result"
    }
   ],
   "source": [
    "id(a1)"
   ]
  },
  {
   "cell_type": "markdown",
   "id": "097f9506",
   "metadata": {},
   "source": [
    "### Dunder methods to understand\n",
    "- `__init__`: Object initialization (initialize object's attributes)\n",
    "- `__new__`: Class Instantiation (create objects)\n",
    "\n",
    "#### Focusing on `__new__` only"
   ]
  },
  {
   "cell_type": "code",
   "execution_count": 7,
   "id": "0648cef4",
   "metadata": {},
   "outputs": [],
   "source": [
    "class OnlyOne(object):\n",
    "    # class attribute\n",
    "    __instance = None \n",
    "\n",
    "    def __new__(cls): # It is by definition a class method\n",
    "        if cls.__instance is None:\n",
    "            cls.__instance = super().__new__(cls)\n",
    "\n",
    "        return cls.__instance"
   ]
  },
  {
   "cell_type": "code",
   "execution_count": 8,
   "id": "350244c4",
   "metadata": {},
   "outputs": [],
   "source": [
    "obj1 = OnlyOne()\n",
    "obj2 = OnlyOne()"
   ]
  },
  {
   "cell_type": "code",
   "execution_count": 9,
   "id": "11a5c729",
   "metadata": {},
   "outputs": [
    {
     "data": {
      "text/plain": [
       "True"
      ]
     },
     "execution_count": 9,
     "metadata": {},
     "output_type": "execute_result"
    }
   ],
   "source": [
    "id(obj1) == id(obj2)"
   ]
  },
  {
   "cell_type": "markdown",
   "id": "d8ce5a27",
   "metadata": {},
   "source": [
    "## Focusing on `__new__` and `__init__`\n",
    "\n",
    "```python\n",
    "obj1 = OnlyOne(1)\n",
    "obj2 = OnlyOne(0)\n",
    "```"
   ]
  },
  {
   "cell_type": "code",
   "execution_count": 12,
   "id": "cb08c98d",
   "metadata": {},
   "outputs": [],
   "source": [
    "class OnlyOne(object):\n",
    "    # class attribute\n",
    "    __instance = None \n",
    "\n",
    "    def __new__(cls, x): # It is by definition a class method\n",
    "        if cls.__instance is None:\n",
    "            cls.__instance = super().__new__(cls)\n",
    "\n",
    "        return cls.__instance\n",
    "    \n",
    "    def __init__(self, x):\n",
    "        self.x = x"
   ]
  },
  {
   "cell_type": "code",
   "execution_count": 13,
   "id": "05cea9a6",
   "metadata": {},
   "outputs": [],
   "source": [
    "obj1 = OnlyOne(1)\n",
    "obj2 = OnlyOne(0)"
   ]
  },
  {
   "cell_type": "code",
   "execution_count": 14,
   "id": "ae37e9e2",
   "metadata": {},
   "outputs": [
    {
     "data": {
      "text/plain": [
       "True"
      ]
     },
     "execution_count": 14,
     "metadata": {},
     "output_type": "execute_result"
    }
   ],
   "source": [
    "id(obj1) == id(obj2)"
   ]
  },
  {
   "cell_type": "code",
   "execution_count": 15,
   "id": "bd9f0630",
   "metadata": {},
   "outputs": [
    {
     "name": "stdout",
     "output_type": "stream",
     "text": [
      "0\n",
      "0\n"
     ]
    }
   ],
   "source": [
    "print(obj1.x)\n",
    "print(obj2.x)"
   ]
  },
  {
   "cell_type": "markdown",
   "id": "b19e20d7",
   "metadata": {},
   "source": [
    "## Maintian the object and it's attribute's value"
   ]
  },
  {
   "cell_type": "code",
   "execution_count": 16,
   "id": "21ccdfa3",
   "metadata": {},
   "outputs": [],
   "source": [
    "class OnlyOne(object):\n",
    "    # class attribute\n",
    "    __instance = None \n",
    "\n",
    "    def __new__(cls, x): # It is by definition a class method\n",
    "        if cls.__instance is None:\n",
    "            cls.__instance = super().__new__(cls)\n",
    "            cls.__instance.__new_init(x)\n",
    "\n",
    "        return cls.__instance\n",
    "    \n",
    "    def __new_init(self, x):\n",
    "        self.x = x"
   ]
  },
  {
   "cell_type": "code",
   "execution_count": 17,
   "id": "4612e978",
   "metadata": {},
   "outputs": [
    {
     "name": "stdout",
     "output_type": "stream",
     "text": [
      "1\n",
      "1\n"
     ]
    }
   ],
   "source": [
    "ob1 = OnlyOne(1)\n",
    "ob2 = OnlyOne(0)\n",
    "print(ob1.x)\n",
    "print(ob2.x)"
   ]
  },
  {
   "cell_type": "code",
   "execution_count": 22,
   "id": "0ded06ae",
   "metadata": {},
   "outputs": [],
   "source": [
    "class OnlyOne(object):\n",
    "    # class attribute\n",
    "    __instance = None \n",
    "\n",
    "    def __init__(self, x):\n",
    "        if OnlyOne.__instance is not None:\n",
    "            self.x = x\n",
    "\n",
    "    def __new__(cls, x): # It is by definition a class method\n",
    "        if cls.__instance is None:\n",
    "            cls.__instance = super().__new__(cls)\n",
    "\n",
    "        return cls.__instance\n",
    "    \n",
    "    "
   ]
  },
  {
   "cell_type": "code",
   "execution_count": 23,
   "id": "da3b64b7",
   "metadata": {},
   "outputs": [
    {
     "name": "stdout",
     "output_type": "stream",
     "text": [
      "0\n",
      "0\n"
     ]
    }
   ],
   "source": [
    "ob1 = OnlyOne(1)\n",
    "ob2 = OnlyOne(0)\n",
    "print(ob1.x)\n",
    "print(ob2.x)"
   ]
  },
  {
   "cell_type": "code",
   "execution_count": 24,
   "id": "f33f87bf",
   "metadata": {},
   "outputs": [],
   "source": [
    "class A(object):\n",
    "    \n",
    "    def __init__(self, x):\n",
    "        self.x = x "
   ]
  },
  {
   "cell_type": "code",
   "execution_count": null,
   "id": "cd668ea2",
   "metadata": {},
   "outputs": [],
   "source": [
    "a1 = A('Julie')\n",
    "print(a1.x)\n",
    "\n",
    "# When you create an object\n",
    "## __new__ # creating the object\n",
    "## __init__(self, x) # pass in the x value, to be assign to your object\n"
   ]
  },
  {
   "cell_type": "markdown",
   "id": "25ca6ac2",
   "metadata": {},
   "source": [
    "## Singleton and Metaclass\n",
    "\n",
    "- `__call__`\n",
    "    - `__new__`\n",
    "    - `__init__`\n",
    "\n",
    "### Create our singleton metaclass \n",
    "- A class is a metaclass if it inherits `type`.\n",
    "- A metaclass can't be instantiated, it can only be used as a metaclass.\n",
    "- To transform a class into a singleton, we just assign that singleton metaclass to the `metaclass` attribute of the class."
   ]
  },
  {
   "cell_type": "code",
   "execution_count": 27,
   "id": "aa74fb23",
   "metadata": {},
   "outputs": [],
   "source": [
    "# How do we create a metaclass\n",
    "# Just inherit 'type'\n",
    "class MetaSingleton(type):\n",
    "    __instance = None \n",
    "\n",
    "    def __call__(cls, *args, **kwargs):\n",
    "        if cls.__instance is None:\n",
    "            cls.__instance = super().__call__(*args, **kwargs)\n",
    "        return cls.__instance\n"
   ]
  },
  {
   "cell_type": "code",
   "execution_count": 28,
   "id": "c02b497f",
   "metadata": {},
   "outputs": [],
   "source": [
    "# assign our new singleton metaclass to the 'metaclass' parameter\n",
    "class OnlyOne(metaclass=MetaSingleton):\n",
    "    def __init__(self, x):\n",
    "        self.x = x\n"
   ]
  },
  {
   "cell_type": "code",
   "execution_count": 29,
   "id": "821a3f3a",
   "metadata": {},
   "outputs": [],
   "source": [
    "obj1 = OnlyOne(4)\n",
    "obj2 = OnlyOne(0)"
   ]
  },
  {
   "cell_type": "code",
   "execution_count": 30,
   "id": "93ec0450",
   "metadata": {},
   "outputs": [
    {
     "data": {
      "text/plain": [
       "True"
      ]
     },
     "execution_count": 30,
     "metadata": {},
     "output_type": "execute_result"
    }
   ],
   "source": [
    "id(obj1) == id(obj2) "
   ]
  },
  {
   "cell_type": "code",
   "execution_count": 33,
   "id": "abe36f59",
   "metadata": {},
   "outputs": [
    {
     "name": "stdout",
     "output_type": "stream",
     "text": [
      "4\n",
      "4\n"
     ]
    }
   ],
   "source": [
    "print(obj1.x)\n",
    "print(obj2.x)"
   ]
  },
  {
   "cell_type": "code",
   "execution_count": null,
   "id": "e1ea5ba7",
   "metadata": {},
   "outputs": [],
   "source": [
    "class Database:\n",
    "    # connection to the database\n",
    "    # query your database\n",
    "    # write to your database\n",
    "    pass\n"
   ]
  }
 ],
 "metadata": {
  "kernelspec": {
   "display_name": "Python 3 (ipykernel)",
   "language": "python",
   "name": "python3"
  },
  "language_info": {
   "codemirror_mode": {
    "name": "ipython",
    "version": 3
   },
   "file_extension": ".py",
   "mimetype": "text/x-python",
   "name": "python",
   "nbconvert_exporter": "python",
   "pygments_lexer": "ipython3",
   "version": "3.11.5"
  }
 },
 "nbformat": 4,
 "nbformat_minor": 5
}
