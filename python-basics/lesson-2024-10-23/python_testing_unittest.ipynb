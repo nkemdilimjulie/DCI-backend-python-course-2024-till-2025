{
 "cells": [
  {
   "cell_type": "markdown",
   "metadata": {},
   "source": [
    "# Python unittest\n",
    "\n",
    "> Automated testing is the act of writing a piece of software to test an original piece of software\n",
    "\n",
    "\n",
    "`unittest` uses the following concepts\n",
    "- Divide and conquer\n",
    "- Single responsibility\n",
    "\n",
    "**NB**:\n",
    "\n",
    "To write more sophisticated test, the third-party library called `Pytest`.\n",
    "\n",
    "- `unittest` provides an object oriented interface which follows the concepts of OOP, while `Pytest` is more of functional programming\n",
    "\n",
    "## Test Case and unit test\n",
    "- Python has  the module `unittest`, which in-built, but needs to be imported.\n",
    "- The module provides the class called `TestCase`, which should be inherited to create a `test case`, or `test suits`.\n",
    "    - The naming convention of a test case is `pascal case`., it follows the format:\n",
    "        - `Test<class-name>`\n",
    "- The module provides methods that can be used to do assertions\n",
    "    - The naming convention of these methods is the `java naming convention`.\n",
    "- Your defined methods is called `unit test`. and it tests a tiny section of your code.\n",
    "    - The naming convention of your unit test follows the `snake case and has the format\n",
    "        - `test_<method-name>` or `<method-name>_test`"
   ]
  },
  {
   "cell_type": "code",
   "execution_count": 1,
   "metadata": {},
   "outputs": [],
   "source": [
    "# import unittest\n",
    "import unittest\n",
    "\n",
    "# Define the test case: `Test<class-name>`\n",
    "class TestMyFirstTestCase(unittest.TestCase):\n",
    "    # unit test: test_<method-name>\n",
    "    def test_multiply_two_numbers(self):\n",
    "        pass\n",
    "\n",
    "if __name__ == '__main__':\n",
    "    unittest.main() # starts the test runner"
   ]
  },
  {
   "cell_type": "markdown",
   "metadata": {},
   "source": [
    "## Test Runner\n",
    "In automated testing, we usually want someone to gather all the test cases and run their unit tests.\n",
    "\n",
    "The test runner uses two phases\n",
    "- `Discovery phase`: During this phase, it detects all test cases(all classes that inherit the `TestCase`). \n",
    "- `Run  phase`: During this phase, it runs all the `unit test`(methods that starts or ends with `test`)\n",
    "\n",
    "For the `test runner` to successfully execute, you must add this line of code \n",
    "\n",
    "```python\n",
    "if __name__ == '__main__':\n",
    "    unittest.main() # starts the test runner\n",
    "```"
   ]
  },
  {
   "cell_type": "markdown",
   "metadata": {},
   "source": [
    "## Organizing your test\n",
    "\n",
    "```python\n",
    "src/\n",
    "tests/ # test<folder-name> \n",
    "    - __init__.py\n",
    "    - test_mul.py # test_<file-name>\n",
    "    - test_add.py\n",
    "```\n",
    "\n",
    "### Organizing our calculator program\n",
    "\n",
    "```\n",
    ".\n",
    "├── __init__.py\n",
    "├── src\n",
    "│   ├── __init__.py\n",
    "│   └── calc.py\n",
    "└── tests\n",
    "    ├── __init__.py\n",
    "    ├── test_add.py\n",
    "    └── test_mul.py\n",
    "```"
   ]
  },
  {
   "cell_type": "markdown",
   "metadata": {},
   "source": [
    "## Write first test with TDD - Test Driven Development\n",
    "\n",
    "Our test will use the structure\n",
    "- `Arrange`: Here, we prepare any state that will be needed in the test. That is, initializing variables and so on. (Optional)\n",
    "- `Act`: Here, we perform the testing. By calling the `function` or `method` that need testing.\n",
    "- `Assert`: Here, we verify that the outcome of the `Act` is what was expected.\n",
    "\n",
    "\n",
    "### Multiplication\n",
    "- Our function should multiply two numbers\n",
    "\n",
    "\n",
    "## Conditions for the test runner to discover our tests\n",
    "- Our test files should start with `test`\n",
    "- The test folder should contain the `__init__.py`.\n",
    "- The unit test should start with `test`."
   ]
  },
  {
   "cell_type": "markdown",
   "metadata": {},
   "source": [
    "### Test Unit\n",
    "- Answer the question `What should I test?`\n",
    "\n",
    "> Personally, I think a `test unit` is the smallest testable entity of your code.\n",
    "\n",
    "\n",
    "Using the `multiply` function\n",
    "- The function returns the right answer\n",
    "- What is a user enters alphanumeric numbers\n",
    "- What if a user enters numbers as string.\n",
    "    - i will cast the string to integers, then multiply them."
   ]
  },
  {
   "cell_type": "markdown",
   "metadata": {},
   "source": [
    "### Different ways of running your unittest\n",
    "#### Allow the test runner to do the discovery\n",
    "- `python -m unittest`\n",
    "#### Run test from folder, modules, classes or even individual unit test\n",
    "- `check this`\n",
    "- `python -m unittest tests.test_mul `\n",
    "- `python -m unittest tests.test_mul.TestMultiplicationTestCase`\n",
    "- `python3 -m unittest tests.test_mul.TestMultiplicationTestCase.test_mul_two_numbers`\n",
    "\n",
    "#### Test modules can be specified by file path as well\n",
    "- `python -m unittest tests/test_mul.py`\n",
    "- `python3 -m unittest tests/test_mul.py::TestMultiplicationTestCase`\n",
    "- `python3 -m unittest tests/test_mul.py::TestMultiplicationTestCase::test_mul_two_numbers`\n",
    "\n",
    "#### Test with verbosity( more details)\n",
    "- `-v`\n",
    "#### Run tests with regex (using `-k` flag)\n",
    "- `python -m unittest -k TestMult`"
   ]
  },
  {
   "cell_type": "markdown",
   "metadata": {},
   "source": [
    "## Overview of unittest asssertion methods\n",
    "**NB**: Refer to the pdf file.\n",
    "\n",
    "### Test exceptions\n",
    "To test exceptions, we use `with assertRaises`."
   ]
  }
 ],
 "metadata": {
  "kernelspec": {
   "display_name": "base",
   "language": "python",
   "name": "python3"
  },
  "language_info": {
   "codemirror_mode": {
    "name": "ipython",
    "version": 3
   },
   "file_extension": ".py",
   "mimetype": "text/x-python",
   "name": "python",
   "nbconvert_exporter": "python",
   "pygments_lexer": "ipython3",
   "version": "3.11.5"
  }
 },
 "nbformat": 4,
 "nbformat_minor": 2
}
