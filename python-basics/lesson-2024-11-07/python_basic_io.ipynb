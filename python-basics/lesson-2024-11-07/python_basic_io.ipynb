{
 "cells": [
  {
   "cell_type": "markdown",
   "metadata": {},
   "source": [
    "# Revision of Yesterday's exercise"
   ]
  },
  {
   "cell_type": "code",
   "execution_count": 1,
   "metadata": {},
   "outputs": [
    {
     "name": "stdout",
     "output_type": "stream",
     "text": [
      "README.md              file.txt               python_basic_io.ipynb\n"
     ]
    }
   ],
   "source": [
    "ls\n"
   ]
  },
  {
   "cell_type": "code",
   "execution_count": 3,
   "metadata": {},
   "outputs": [
    {
     "name": "stdout",
     "output_type": "stream",
     "text": [
      "the dark side\n"
     ]
    }
   ],
   "source": [
    "with open('file.txt') as file:\n",
    "    # set pointer to position 1622\n",
    "    file.seek(1622)\n",
    "    limit = (1634 - 1622) + 1\n",
    "    line = file.read(limit)\n",
    "    print(line)"
   ]
  },
  {
   "cell_type": "code",
   "execution_count": 4,
   "metadata": {},
   "outputs": [],
   "source": [
    "import pickle\n",
    "\n",
    "d = {4: 3, 'a': [4,5,6]}\n",
    "\n",
    "with open('dict.bin', 'wb') as file:\n",
    "    # save Python objects in binary file\n",
    "    pickle.dump(d, file)"
   ]
  },
  {
   "cell_type": "code",
   "execution_count": 5,
   "metadata": {},
   "outputs": [
    {
     "name": "stdout",
     "output_type": "stream",
     "text": [
      "[4, 5, 6]\n"
     ]
    }
   ],
   "source": [
    "with open('dict.bin', 'rb') as file:\n",
    "    # read python objects from binary file\n",
    "    d = pickle.load(file)\n",
    "    print(d['a'])"
   ]
  },
  {
   "cell_type": "code",
   "execution_count": null,
   "metadata": {},
   "outputs": [],
   "source": []
  },
  {
   "cell_type": "markdown",
   "metadata": {},
   "source": [
    "## Steams\n",
    "> Streams refer to objects that provide a way to read or write data to various input/output channels: `files`, `network connections`, `in-memory buffers`."
   ]
  },
  {
   "cell_type": "markdown",
   "metadata": {},
   "source": [
    "## Code Count Mini Project\n",
    "### handle Directories\n"
   ]
  },
  {
   "cell_type": "code",
   "execution_count": 15,
   "metadata": {},
   "outputs": [
    {
     "name": "stdout",
     "output_type": "stream",
     "text": [
      "/Users/Apple/Documents/WORK/DCI/2024/p24_e024/live-code/python-basics/lesson-2024-11-07/code_count/__init__.py\n",
      "/Users/Apple/Documents/WORK/DCI/2024/p24_e024/live-code/python-basics/lesson-2024-11-07/code_count/test.py\n",
      "/Users/Apple/Documents/WORK/DCI/2024/p24_e024/live-code/python-basics/lesson-2024-11-07/code_count/README.md\n",
      "<generator object _walk at 0x1148481b0>\n"
     ]
    }
   ],
   "source": [
    "import os \n",
    "\n",
    "# build a path from current working directory\n",
    "path = os.getcwd() + '/code_count'\n",
    "\n",
    "# [path, folders, files]\n",
    "dir_path, _, files = list(os.walk(path))[0]\n",
    "\n",
    "for file in files:\n",
    "    file_path = dir_path + '/' + file\n",
    "    print(file_path)"
   ]
  },
  {
   "cell_type": "code",
   "execution_count": 16,
   "metadata": {},
   "outputs": [
    {
     "data": {
      "text/plain": [
       "'src/tests'"
      ]
     },
     "execution_count": 16,
     "metadata": {},
     "output_type": "execute_result"
    }
   ],
   "source": [
    "path1 = 'tests'\n",
    "path2 = 'src'\n",
    "\n",
    "# without os. We would be sure of which separator to use, base on different operating systems\n",
    "print(path2 + '/' + path1)\n",
    "\n",
    "# With os, the os module will take care of the separator for us.\n",
    "os.path.join(path2, path1)\n"
   ]
  },
  {
   "cell_type": "markdown",
   "metadata": {},
   "source": []
  }
 ],
 "metadata": {
  "kernelspec": {
   "display_name": "base",
   "language": "python",
   "name": "python3"
  },
  "language_info": {
   "codemirror_mode": {
    "name": "ipython",
    "version": 3
   },
   "file_extension": ".py",
   "mimetype": "text/x-python",
   "name": "python",
   "nbconvert_exporter": "python",
   "pygments_lexer": "ipython3",
   "version": "3.11.5"
  }
 },
 "nbformat": 4,
 "nbformat_minor": 2
}
