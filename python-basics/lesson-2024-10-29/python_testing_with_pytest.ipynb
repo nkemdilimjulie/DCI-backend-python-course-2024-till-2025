{
 "cells": [
  {
   "cell_type": "markdown",
   "metadata": {},
   "source": [
    "# Testing with Pytest\n",
    "- We use the `assert` keyword, with Python comparison operators: `==, >=, >, <, !=, <=, &, |, is, is not`\n",
    "\n",
    "```python\n",
    "def test_ok():\n",
    "    assert True\n",
    "```\n",
    "\n",
    "- Unlike `unittest`, we don't need an explicit `__init__.py` in the test folders.\n",
    "- Pytest discover the tests by looking at the functions or methods, if they start with `test`."
   ]
  },
  {
   "cell_type": "markdown",
   "metadata": {},
   "source": [
    "### Install Pytest\n",
    "**NB**: It is recommended to install packages in a `virtual environment`.\n",
    "\n",
    "#### Create virtual environment\n",
    "```bash\n",
    "# Syntax\n",
    "python3 -m venv <ve-folder> [--prompt <good-looking-name>]\n",
    "\n",
    "# Actual command\n",
    "python3 -m venv .venv --prompt first-pytest\n",
    "\n",
    "\n",
    "#### Activate VE\n",
    "# Syntax\n",
    "source <ve-folder>/bin/activate\n",
    "\n",
    "# Actual command\n",
    "source .venv/bin/activate\n",
    "```\n",
    "\n",
    "### Install Pytest\n",
    "\n",
    "```bash\n",
    "pip install pytest\n",
    "\n",
    "# check all installed packages in your VE\n",
    "pip list\n",
    "```"
   ]
  },
  {
   "cell_type": "markdown",
   "metadata": {},
   "source": [
    "### Running Pytest\n",
    "- `pytest` -> `python3 -m pytest`\n",
    "- `python -m pytest <file-name>.py, <file-name>.py, ....`\n",
    "- `python -m pytest <folder-name>, <folder-name>, .....`\n",
    "- `python -m pytest <folder>/<file-name>.py::<test-func>`\n",
    "\n",
    "### Flags\n",
    "\n",
    "```python\n",
    "pytest --help # : help\n",
    "-v or --verbose # : more detail information\n",
    "-vv # even more info\n",
    "-tb=no|line # : turn off traceback or display on one line.\n",
    "-k # : uses expression to identify tests.\n",
    "-s # : Enables the display of any print statement on the terminal\n",
    "-m # specifies a marker.\n",
    "```"
   ]
  },
  {
   "cell_type": "markdown",
   "metadata": {},
   "source": [
    "### Test Outcomes\n",
    "- `PASSED (.)`: Test ran successfully\n",
    "- `FAILED (F)`: Test didn't run successfully\n",
    "- `SKIPPED (s)`: A test was skipped. (`@pytest.mark.skip(reason=None)`)\n",
    "- `XFAIL (x)`: A test is destined to fail, and it failed. (`@pytest.mark.xfail`)\n",
    "- `XPASS (X)`: A test is destined to fail, but it passed.\n",
    "- `ERROR (E)`: When you have an exception in your fixtures(`more on this`)\n"
   ]
  },
  {
   "cell_type": "markdown",
   "metadata": {},
   "source": [
    "### Python Fixtures\n",
    "- Fixtures are created with the `@pytest.fixture()` decorator\n",
    "-fixtures in Pytest are the same as `setUp` and `tearDown` in unittest\n",
    "- What do they do\n",
    "    - Prepare data for testing\n",
    "    - set the system state ready for testing\n",
    "    - Clean up after testing\n",
    "- Fixtures have scopes\n",
    "    - `function` (**default**): The fixtures will run before and after every function\n",
    "    - `class`: The fixtures will run before and after every class.\n",
    "    - `method`: The fixtures will run before and after every method\n",
    "    - `module`: The fixtures will run before and after every module(a python file)\n",
    "\n",
    "#### Self-study\n",
    "Investigate and practice the different scopes of the fixture."
   ]
  },
  {
   "cell_type": "markdown",
   "metadata": {},
   "source": [
    "## Tracing Fixtures\n",
    "- Because fixtures can be placed anywhere in your tests, if we want to trace where the fixture is found, we can use `--setup-show`.\n",
    "- Fixtures, use the keyword `yield` in Python"
   ]
  },
  {
   "cell_type": "code",
   "execution_count": 5,
   "metadata": {},
   "outputs": [],
   "source": [
    "def display():\n",
    "    # Setup\n",
    "    yield x + y\n",
    "    # tearDown"
   ]
  },
  {
   "cell_type": "code",
   "execution_count": 6,
   "metadata": {},
   "outputs": [],
   "source": [
    "d = display()"
   ]
  },
  {
   "cell_type": "code",
   "execution_count": 7,
   "metadata": {},
   "outputs": [
    {
     "data": {
      "text/plain": [
       "4"
      ]
     },
     "execution_count": 7,
     "metadata": {},
     "output_type": "execute_result"
    }
   ],
   "source": [
    "next(d)"
   ]
  },
  {
   "cell_type": "code",
   "execution_count": 8,
   "metadata": {},
   "outputs": [
    {
     "data": {
      "text/plain": [
       "(0, 2)"
      ]
     },
     "execution_count": 8,
     "metadata": {},
     "output_type": "execute_result"
    }
   ],
   "source": [
    "next(d)"
   ]
  },
  {
   "cell_type": "markdown",
   "metadata": {},
   "source": [
    "# marker - Self-study\n",
    "\n",
    "# Parametrization\n",
    "Helps us to have many test units in a single function."
   ]
  },
  {
   "cell_type": "markdown",
   "metadata": {},
   "source": [
    "## Exercise\n",
    "### Tictactoe\n",
    "- Transform the unittest of tictactoe game into Pytest\n",
    "- If appropriate, use \n",
    "    - fixtures\n",
    "    - parametrization\n",
    "    - markers\n",
    "### Dice Game\n",
    "- Can you test your dice game project???"
   ]
  },
  {
   "cell_type": "markdown",
   "metadata": {},
   "source": [
    "## Resources on Pytest\n",
    "- [Effective Python Testing With Pytest](https://realpython.com/pytest-python-testing/)\n",
    "- [Pytest Documentation](https://docs.pytest.org/en/stable/)"
   ]
  },
  {
   "cell_type": "markdown",
   "metadata": {},
   "source": []
  }
 ],
 "metadata": {
  "kernelspec": {
   "display_name": "base",
   "language": "python",
   "name": "python3"
  },
  "language_info": {
   "codemirror_mode": {
    "name": "ipython",
    "version": 3
   },
   "file_extension": ".py",
   "mimetype": "text/x-python",
   "name": "python",
   "nbconvert_exporter": "python",
   "pygments_lexer": "ipython3",
   "version": "3.11.5"
  }
 },
 "nbformat": 4,
 "nbformat_minor": 2
}
